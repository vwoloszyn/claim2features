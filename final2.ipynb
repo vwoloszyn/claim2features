{
 "cells": [
  {
   "cell_type": "markdown",
   "metadata": {},
   "source": [
    "# Claim2Features"
   ]
  },
  {
   "cell_type": "markdown",
   "metadata": {},
   "source": [
    "## Util"
   ]
  },
  {
   "cell_type": "markdown",
   "metadata": {},
   "source": [
    "### Ignore Warning"
   ]
  },
  {
   "cell_type": "code",
   "execution_count": 1,
   "metadata": {},
   "outputs": [],
   "source": [
    "import warnings\n",
    "warnings.filterwarnings(\"ignore\")"
   ]
  },
  {
   "cell_type": "markdown",
   "metadata": {},
   "source": [
    "### My Hot Encoder Decoder"
   ]
  },
  {
   "cell_type": "code",
   "execution_count": 2,
   "metadata": {},
   "outputs": [],
   "source": [
    "import numpy as np\n",
    "from collections import OrderedDict\n",
    "from operator import itemgetter\n",
    "\n",
    "\n",
    "def myHotEncode(input_data, max_vocab=0, vocab2idx=None):\n",
    "    \"Return the hot-vecotor and the vocab2idx.\"\n",
    "    if vocab2idx is None:\n",
    "        vocabFreq = {}\n",
    "        for i in input_data:\n",
    "            for j in i:\n",
    "                if j not in vocabFreq:\n",
    "                    vocabFreq[j] = 0\n",
    "                vocabFreq[j] += 1\n",
    "        vocabFreq = OrderedDict(sorted(vocabFreq.items(), key=itemgetter(1), reverse=True))\n",
    "        vocab2idx = {}\n",
    "        count = 0\n",
    "        for v in vocabFreq:\n",
    "            count += 1\n",
    "            if max_vocab > 0 and count > max_vocab:\n",
    "                break\n",
    "            vocab2idx[v] = len(vocab2idx)        \n",
    "    vocabEmbeddings = np.identity(len(vocab2idx), dtype='float32')\n",
    "    data_ret = []\n",
    "    for i in input_data:\n",
    "        i_ = []\n",
    "        for j in i:\n",
    "            if j in vocab2idx:\n",
    "                i_.append(vocabEmbeddings[vocab2idx[j]])\n",
    "        if len(i_) == 0:\n",
    "            i_ = np.zeros((1,len(vocab2idx)))\n",
    "        data_ret.append(sum(i_))\n",
    "    return data_ret, vocab2idx\n",
    "\n",
    "\n",
    "def myHotDecode(input_data, vocab2idx):\n",
    "    \"Return the decode as final representation and decode as indexs\"\n",
    "    data_ = []\n",
    "    data_idx = []\n",
    "    for i in input_data:\n",
    "        i_ = []\n",
    "        i_idx = []\n",
    "        if len(i) != len(vocab2idx):\n",
    "            print('Erro:', 'The vocab2idx not fit the input data!')\n",
    "            return\n",
    "        for _i, j in enumerate(i):\n",
    "            if j > 0:\n",
    "                v = [k for k in vocab2idx if vocab2idx[k]==_i][0]\n",
    "                i_.append(v)\n",
    "                i_idx.append(_i)\n",
    "        data_.append(i_)\n",
    "        data_idx.append(i_idx)\n",
    "    return data_, data_idx"
   ]
  },
  {
   "cell_type": "markdown",
   "metadata": {},
   "source": [
    "### Confusion Matrix"
   ]
  },
  {
   "cell_type": "code",
   "execution_count": 15,
   "metadata": {},
   "outputs": [],
   "source": [
    "import matplotlib.pyplot as plt\n",
    "import itertools\n",
    "\n",
    "\n",
    "def plot_confusion_matrix(cm, classes,\n",
    "                          normalize=True,\n",
    "                          title='Confusion matrix',\n",
    "                          cmap=plt.cm.Blues):\n",
    "    \"\"\"\n",
    "    This function prints and plots the confusion matrix.\n",
    "    Normalization can be applied by setting `normalize=True`.\n",
    "    \"\"\"\n",
    "    if normalize:\n",
    "        cm = cm.astype('float') / cm.sum(axis=1)[:, np.newaxis]\n",
    "\n",
    "    plt.imshow(cm, interpolation='nearest', cmap=cmap)\n",
    "    plt.title(title)\n",
    "    plt.colorbar()\n",
    "    tick_marks = np.arange(len(classes))\n",
    "    plt.xticks(tick_marks, classes, rotation=45)\n",
    "    plt.yticks(tick_marks, classes)\n",
    "\n",
    "    fmt = '.2f' if normalize else 'd'\n",
    "    thresh = cm.max() / 2.\n",
    "    for i, j in itertools.product(range(cm.shape[0]), range(cm.shape[1])):\n",
    "        plt.text(j, i, format(cm[i, j], fmt),\n",
    "                 horizontalalignment=\"center\",\n",
    "                 color=\"white\" if cm[i, j] > thresh else \"black\")\n",
    "\n",
    "    plt.tight_layout()\n",
    "    plt.ylabel('True label')\n",
    "    plt.xlabel('Predicted label')\n",
    "    plt.show()"
   ]
  },
  {
   "cell_type": "markdown",
   "metadata": {},
   "source": [
    "### Treat texts"
   ]
  },
  {
   "cell_type": "markdown",
   "metadata": {},
   "source": [
    "#### Treat text or a list of texts"
   ]
  },
  {
   "cell_type": "code",
   "execution_count": 4,
   "metadata": {},
   "outputs": [],
   "source": [
    "def treat_text(text, removes=['\\n', '\\r', '\\t'], strip=True):\n",
    "    if type(text) == list:\n",
    "        text_ = []\n",
    "        for t in text:\n",
    "            text_.append(treat_text(t))\n",
    "        return text_\n",
    "    text_ = text\n",
    "    for remove in removes:\n",
    "        text_ = text_.replace(remove, ' ')\n",
    "    if strip:\n",
    "        text_ = text_.strip()\n",
    "    return text_"
   ]
  },
  {
   "cell_type": "markdown",
   "metadata": {},
   "source": [
    "#### Split pure words"
   ]
  },
  {
   "cell_type": "code",
   "execution_count": 5,
   "metadata": {},
   "outputs": [],
   "source": [
    "def pure_words(text, dividers=['-', '_'], uppercase=True, low_upper=True):\n",
    "    upper = list('ABCDEFGHIJKLMNOPQRSTUVWYZ')\n",
    "    text_ = ''\n",
    "    last_space = True\n",
    "    for c in text:\n",
    "        if not last_space:\n",
    "            if c in dividers:\n",
    "                text_ += ' '\n",
    "            elif uppercase and c in upper:\n",
    "                c_ = c\n",
    "                if low_upper:\n",
    "                    c_ = c.lower()\n",
    "                text_ += ' ' + c_\n",
    "            else:\n",
    "                text_ += c\n",
    "        else:\n",
    "            if c not in dividers:\n",
    "                text_ += c\n",
    "        if c == ' ':\n",
    "            last_space = True\n",
    "        else:\n",
    "            last_space = False\n",
    "    return text_"
   ]
  },
  {
   "cell_type": "markdown",
   "metadata": {},
   "source": [
    "## Pre-processing"
   ]
  },
  {
   "cell_type": "code",
   "execution_count": 19,
   "metadata": {},
   "outputs": [
    {
     "name": "stdout",
     "output_type": "stream",
     "text": [
      "Wall time: 25.8 ms\n"
     ]
    }
   ],
   "source": [
    "%%time\n",
    "import pandas as pd\n",
    "import ast\n",
    "\n",
    "data_path = 'dataset.csv'\n",
    "df = pd.read_csv(data_path)\n",
    "\n",
    "columns = ['tag', 'text', 'attrs', 'level', 'brother_tag', 'brother_text', 'brother_attrs', 'url', 'site', 'label']\n",
    "words_context = []\n",
    "brother_words_context = []\n",
    "\n",
    "count = 0\n",
    "for tupla in df[columns].values:\n",
    "    count += 1\n",
    "    # Each instance is a dictionary dic\n",
    "    dic = {}\n",
    "    for i, column in enumerate(columns):\n",
    "        dic[column] = tupla[i]\n",
    "    \n",
    "    # words_context attribute\n",
    "    words_context_ = ''\n",
    "    if dic['text'] != 'None Text':\n",
    "        words_context_ += pure_words(treat_text(str(dic['text']))) + ' '\n",
    "    attrs = ast.literal_eval(dic['attrs'])\n",
    "    for attr in attrs.values():\n",
    "        if type(attr) == str:\n",
    "            words_context_ += pure_words(treat_text(str(attr))) + ' '\n",
    "        else:\n",
    "            for a in attr:\n",
    "                words_context_ += pure_words(treat_text(str(a))) + ' '\n",
    "    words_context.append(words_context_)\n",
    "    \n",
    "    # brother_words_context attribute\n",
    "    brother_words_context_ = ''\n",
    "    if dic['brother_text'] != 'None Text':\n",
    "        brother_words_context_ += pure_words(treat_text(str(dic['brother_text']))) + ' '\n",
    "    attrs = ast.literal_eval(dic['brother_attrs'])\n",
    "    for attr in attrs.values():\n",
    "        if type(attr) == str:\n",
    "            brother_words_context_ += pure_words(treat_text(str(attr))) + ' '\n",
    "        else:\n",
    "            for a in attr:\n",
    "                brother_words_context_ += pure_words(treat_text(str(a))) + ' '\n",
    "    brother_words_context.append(brother_words_context_)\n",
    "    \n",
    "del df['attrs']\n",
    "del df['brother_attrs']\n",
    "df['words_context'] = words_context\n",
    "df['brother_words_context'] = brother_words_context"
   ]
  },
  {
   "cell_type": "markdown",
   "metadata": {},
   "source": [
    "## Features"
   ]
  },
  {
   "cell_type": "markdown",
   "metadata": {},
   "source": [
    "### Bag-of-words for context words"
   ]
  },
  {
   "cell_type": "code",
   "execution_count": 20,
   "metadata": {},
   "outputs": [
    {
     "name": "stdout",
     "output_type": "stream",
     "text": [
      "Wall time: 413 ms\n"
     ]
    }
   ],
   "source": [
    "%%time\n",
    "from sklearn.feature_extraction.text import CountVectorizer, TfidfVectorizer\n",
    "from sklearn.feature_extraction.text import ENGLISH_STOP_WORDS\n",
    "from nltk import word_tokenize          \n",
    "from nltk.stem import WordNetLemmatizer \n",
    "\n",
    "\n",
    "class LemmaTokenizer(object):\n",
    "    def __init__(self):\n",
    "        self.wnl = WordNetLemmatizer()\n",
    "    def __call__(self, doc):\n",
    "        return [self.wnl.lemmatize(t) for t in word_tokenize(doc)]\n",
    "\n",
    "\n",
    "vocab_size = 2000\n",
    "vec = CountVectorizer(max_features=vocab_size, stop_words=ENGLISH_STOP_WORDS, tokenizer=LemmaTokenizer())\n",
    "vec.fit(df['words_context'])\n",
    "words_context = vec.transform(list(df['words_context'])).toarray()\n",
    "brother_words_context = vec.transform(list(df['brother_words_context'])).toarray()"
   ]
  },
  {
   "cell_type": "markdown",
   "metadata": {},
   "source": [
    "### Text size"
   ]
  },
  {
   "cell_type": "code",
   "execution_count": 21,
   "metadata": {},
   "outputs": [],
   "source": [
    "text_sizes = []\n",
    "for size in df['text']:\n",
    "    if type(size) == str:\n",
    "        text_sizes.append([len(size.strip().split(' '))])\n",
    "    else:\n",
    "        text_sizes.append([0])\n",
    "brother_text_sizes = []\n",
    "for size in df['brother_text']:\n",
    "    if type(size) == str:\n",
    "        brother_text_sizes.append([len(size.strip().split(' '))])\n",
    "    else:\n",
    "        brother_text_sizes.append([0])"
   ]
  },
  {
   "cell_type": "markdown",
   "metadata": {},
   "source": [
    "### Tag"
   ]
  },
  {
   "cell_type": "code",
   "execution_count": 22,
   "metadata": {},
   "outputs": [],
   "source": [
    "tag2Idx = myHotEncode([df['tag']], 100)[1]\n",
    "tag = myHotEncode([[x] for x in df['tag']], vocab2idx=tag2Idx)[0]\n",
    "brother_tag = myHotEncode([[x] for x in df['brother_tag']], vocab2idx=tag2Idx)[0]"
   ]
  },
  {
   "cell_type": "markdown",
   "metadata": {},
   "source": [
    "### Level"
   ]
  },
  {
   "cell_type": "code",
   "execution_count": 23,
   "metadata": {},
   "outputs": [],
   "source": [
    "level = df['level']"
   ]
  },
  {
   "cell_type": "markdown",
   "metadata": {},
   "source": [
    "## SVM"
   ]
  },
  {
   "cell_type": "markdown",
   "metadata": {},
   "source": [
    "### Data preparation"
   ]
  },
  {
   "cell_type": "code",
   "execution_count": 24,
   "metadata": {},
   "outputs": [
    {
     "name": "stdout",
     "output_type": "stream",
     "text": [
      "Wall time: 110 ms\n"
     ]
    }
   ],
   "source": [
    "%%time\n",
    "last_levels = [-1]\n",
    "last_labels = ['None']\n",
    "\n",
    "last_tags = []\n",
    "last_text_sizes = []\n",
    "last_words_contexts = []\n",
    "last_brother_tags = []\n",
    "last_brother_text_sizes = []\n",
    "last_brother_words_contexts = []\n",
    "\n",
    "\n",
    "def features(tag, text_size, words_context, level,\n",
    "             brother_tag, brother_text_size, brother_words_context,\n",
    "             parent_tag, parent_text_size, parent_words_context):\n",
    "    # Tag\n",
    "    #return list(tag)\n",
    "    \n",
    "    # Level\n",
    "    #return [level]\n",
    "    \n",
    "    # Words Contexts\n",
    "    #return list(words_context)\n",
    "    \n",
    "    # Text sizes\n",
    "    #return list(text_size)\n",
    "\n",
    "    # Brothers tags\n",
    "    #return list(brother_tag)\n",
    "    \n",
    "    # Brothers text sizes\n",
    "    #return list(brother_text_size)\n",
    "    \n",
    "    # Brothers words contexts\n",
    "    #return list(brother_words_context)\n",
    "    \n",
    "    # Parent tag\n",
    "    #return list(parent_tag)\n",
    "    \n",
    "    # Parent text size\n",
    "    #return list(parent_text_size)\n",
    "    \n",
    "    # Parent words contexts\n",
    "    #return list(parent_words_context)\n",
    "    \n",
    "    # All\n",
    "    return list(tag) + list(text_size) + list(words_context) + [level] + list(brother_tag) + list(brother_text_size) + list(brother_words_context) + list(parent_tag) + list(parent_text_size) + list(parent_words_context)\n",
    "    \n",
    "\n",
    "\n",
    "X = []\n",
    "X_ = []\n",
    "y = []\n",
    "group = []\n",
    "last_group = None\n",
    "last_url = 'NONE'\n",
    "\n",
    "sizes = set()\n",
    "\n",
    "for i in range(len(df)):\n",
    "    if last_url != 'NONE' and df['url'][i] != last_url:\n",
    "        if len(last_tags) > 0:\n",
    "            # Parent\n",
    "            if len(last_tags) > 1:\n",
    "                parent_tag = last_tags[-2]\n",
    "                parent_text_size = last_text_sizes[-2]\n",
    "                parent_words_context = last_words_contexts[-2]\n",
    "            else:\n",
    "                print(\"here???\")\n",
    "                parent_tag = np.zeros(len(last_tags[-1]))\n",
    "                parent_text_size = np.zeros(len(last_text_sizes[-1]))\n",
    "                parent_words_contexts = np.zeros(len(last_words_contexts[-1]))\n",
    "            x = features(last_tags[-1], last_text_sizes[-1], last_words_contexts[-1], last_levels[-1], \n",
    "                         last_brother_tags[-1], last_brother_text_sizes[-1], last_brother_words_contexts[-1],\n",
    "                         parent_tag, parent_text_size, parent_words_context)\n",
    "            X.append(x)\n",
    "            X_.append(list(last_tags[-1]).index(1)) # Debug control\n",
    "            sizes.add(len(x))\n",
    "            y_ = 'None'\n",
    "            for y__ in last_labels:\n",
    "                if y__ != 'None':\n",
    "                    y_ = y__\n",
    "            y.append(y_)\n",
    "            group.append(last_group)\n",
    "            last_labels = ['None']\n",
    "            last_tags = []\n",
    "            last_text_sizes = []\n",
    "            last_words_contexts = []\n",
    "            last_levels = [-1]\n",
    "            last_brother_tags = []\n",
    "            last_brother_text_sizes = []\n",
    "            last_brother_words_contexts = []\n",
    "        last_url = df['url'][i]\n",
    "        continue\n",
    "        \n",
    "    last_url = df['url'][i]\n",
    "    level_ = df['level'][i]\n",
    "    \n",
    "    if level_ > last_levels[-1]:\n",
    "        last_tags.append(tag[i])\n",
    "        last_text_sizes.append(text_sizes[i])\n",
    "        last_words_contexts.append(words_context[i])\n",
    "        last_levels.append(level_)\n",
    "        last_brother_tags.append(brother_tag[i])\n",
    "        last_brother_text_sizes.append(brother_text_sizes[i])\n",
    "        last_brother_words_contexts.append(brother_words_context[i])\n",
    "        last_labels.append(df['label'][i])\n",
    "            \n",
    "    else:\n",
    "        if len(last_tags) > 0:\n",
    "            # Parent\n",
    "            if len(last_tags) > 1:\n",
    "                parent_tag = last_tags[-2]\n",
    "                parent_text_size = last_text_sizes[-2]\n",
    "                parent_words_context = last_words_contexts[-2]\n",
    "            else:\n",
    "                print(\"here???\")\n",
    "                parent_tag = np.zeros(len(last_tags[-1]))\n",
    "                parent_text_size = np.zeros(len(last_text_sizes[-1]))\n",
    "                parent_words_contexts = np.zeros(len(last_words_contexts[-1]))\n",
    "            x = features(last_tags[-1], last_text_sizes[-1], last_words_contexts[-1], last_levels[-1], \n",
    "                         last_brother_tags[-1], last_brother_text_sizes[-1], last_brother_words_contexts[-1],\n",
    "                         parent_tag, parent_text_size, parent_words_context)\n",
    "            X.append(x)\n",
    "            X_.append(list(last_tags[-1]).index(1))  # Debug control\n",
    "            sizes.add(len(x))\n",
    "            y_ = 'None'\n",
    "            for y__ in last_labels:\n",
    "                if y__ != 'None':\n",
    "                    y_ = y__\n",
    "            y.append(y_)\n",
    "            group.append(last_group)\n",
    "            # Remove last data used\n",
    "            last_labels = last_labels[:level_-1]\n",
    "            last_tags = last_tags[:level_-1]\n",
    "            last_text_sizes = last_text_sizes[:level_-1]\n",
    "            last_words_contexts = last_words_contexts[:level_-1]\n",
    "            last_levels = last_levels[:level_-1]\n",
    "            last_brother_tags = last_brother_tags[:level_-1]\n",
    "            last_brother_text_sizes = last_brother_text_sizes[:level_-1]\n",
    "            last_brother_words_contexts = last_brother_words_contexts[:level_-1]\n",
    "\n",
    "            last_tags.append(tag[i])\n",
    "            last_text_sizes.append(text_sizes[i])\n",
    "            last_words_contexts.append(words_context[i])\n",
    "            last_levels.append(level_)\n",
    "            last_brother_tags.append(brother_tag[i])\n",
    "            last_brother_text_sizes.append(brother_text_sizes[i])\n",
    "            last_brother_words_contexts.append(brother_words_context[i])\n",
    "            last_labels.append(df['label'][i])\n",
    "    last_group = df['site'][i]\n",
    "\n",
    "if len(last_tags) > 0:\n",
    "    # Parent\n",
    "    if len(last_tags) > 1:\n",
    "        parent_tag = last_tags[-2]\n",
    "        parent_text_size = last_text_sizes[-2]\n",
    "        parent_words_context = last_words_contexts[-2]\n",
    "    else:\n",
    "        print(\"here???\")\n",
    "        parent_tag = np.zeros(len(last_tags[-1]))\n",
    "        parent_text_size = np.zeros(len(last_text_sizes[-1]))\n",
    "        parent_words_contexts = np.zeros(len(last_words_contexts[-1]))\n",
    "    x = features(last_tags[-1], last_text_sizes[-1], last_words_contexts[-1], last_levels[-1], \n",
    "                 last_brother_tags[-1], last_brother_text_sizes[-1], last_brother_words_contexts[-1],\n",
    "                 parent_tag, parent_text_size, parent_words_context)\n",
    "    X.append(x)\n",
    "    X_.append(list(last_tags[-1]).index(1)) # Debug control\n",
    "    sizes.add(len(x))\n",
    "    y_ = 'None'\n",
    "    for y__ in last_labels:\n",
    "        if y__ != 'None':\n",
    "            y_ = y__\n",
    "    y.append(y_)\n",
    "    group.append(last_group)\n",
    "    \n",
    "X = np.array(X)\n",
    "y = np.array(y)\n",
    "group = np.array(group)"
   ]
  },
  {
   "cell_type": "markdown",
   "metadata": {},
   "source": [
    "### Train and Evaluation"
   ]
  },
  {
   "cell_type": "code",
   "execution_count": 26,
   "metadata": {},
   "outputs": [
    {
     "name": "stdout",
     "output_type": "stream",
     "text": [
      "Train Groups (URLs) {1, 2}\n",
      "Test Groups (URLs) {0}\n"
     ]
    },
    {
     "data": {
      "image/png": "[encoded data removed]",
      "text/plain": [
       "<matplotlib.figure.Figure at 0x18bd3f59940>"
      ]
     },
     "metadata": {},
     "output_type": "display_data"
    },
    {
     "name": "stdout",
     "output_type": "stream",
     "text": [
      "Acc: 100.00 %\n",
      "Precision: 100.00 %\n",
      "Recall: 100.00 %\n",
      "F1: 100.00 %\n",
      "\n",
      "Train Groups (URLs) {0, 2}\n",
      "Test Groups (URLs) {1}\n"
     ]
    },
    {
     "data": {
      "image/png": "[encoded data removed]",
      "text/plain": [
       "<matplotlib.figure.Figure at 0x18bd3445470>"
      ]
     },
     "metadata": {},
     "output_type": "display_data"
    },
    {
     "name": "stdout",
     "output_type": "stream",
     "text": [
      "Acc: 100.00 %\n",
      "Precision: 100.00 %\n",
      "Recall: 100.00 %\n",
      "F1: 100.00 %\n",
      "\n",
      "Train Groups (URLs) {0, 1}\n",
      "Test Groups (URLs) {2}\n"
     ]
    },
    {
     "data": {
      "image/png": "[encoded data removed]",
      "text/plain": [
       "<matplotlib.figure.Figure at 0x18bd3148f98>"
      ]
     },
     "metadata": {},
     "output_type": "display_data"
    },
    {
     "name": "stdout",
     "output_type": "stream",
     "text": [
      "Acc: 100.00 %\n",
      "Precision: 100.00 %\n",
      "Recall: 100.00 %\n",
      "F1: 100.00 %\n",
      "\n",
      "Acc 100.00 % (+/- 0.00 %)\n",
      "Precision 100.00 % (+/- 0.00 %)\n",
      "Recall 100.00 % (+/- 0.00 %)\n",
      "F1 100.00 % (+/- 0.00 %)\n"
     ]
    },
    {
     "data": {
      "image/png": "[encoded data removed]",
      "text/plain": [
       "<matplotlib.figure.Figure at 0x18bcfcc54e0>"
      ]
     },
     "metadata": {},
     "output_type": "display_data"
    },
    {
     "name": "stdout",
     "output_type": "stream",
     "text": [
      "Wall time: 627 ms\n"
     ]
    }
   ],
   "source": [
    "%%time\n",
    "from sklearn.svm import LinearSVC\n",
    "from sklearn.naive_bayes import BernoulliNB, MultinomialNB\n",
    "from sklearn.ensemble import RandomForestClassifier\n",
    "from sklearn.model_selection import GroupKFold\n",
    "from keras.wrappers.scikit_learn import KerasClassifier\n",
    "from sklearn.metrics import accuracy_score, f1_score, precision_score, recall_score, confusion_matrix\n",
    "\n",
    "\n",
    "accuracy = []\n",
    "precision = []\n",
    "recall = []\n",
    "f1 = []\n",
    "confusion = []\n",
    "\n",
    "# Aux print\n",
    "_, site2Idx = myHotEncode([[u] for u in group])\n",
    "\n",
    "gp = GroupKFold(n_splits=11)\n",
    "for train_indexs, test_indexs in gp.split(X, groups=group):\n",
    "    \n",
    "    X_train = X[train_indexs]\n",
    "    y_train = y[train_indexs]\n",
    "    \n",
    "    X_test = X[test_indexs]\n",
    "    y_test = y[test_indexs]\n",
    "    \n",
    "    groups_train = group[train_indexs]\n",
    "    groups_test = group[test_indexs]\n",
    "    train_g = set()\n",
    "    test_g = set()\n",
    "    for g in groups_train:\n",
    "        train_g.add(site2Idx[g])\n",
    "    for g in groups_test:\n",
    "        test_g.add(site2Idx[g])\n",
    "    print('Train Groups (URLs)', train_g)\n",
    "    print('Test Groups (URLs)', test_g)\n",
    "    \n",
    "    svm = LinearSVC()\n",
    "    svm.fit(X_train, y_train)\n",
    "    result = svm.predict(X_test)\n",
    "\n",
    "    acc = accuracy_score(result, y_test)\n",
    "    accuracy.append(acc)\n",
    "    p = precision_score(result, y_test, average=\"macro\")\n",
    "    precision.append(p)\n",
    "    r = recall_score(result, y_test, average=\"macro\")\n",
    "    recall.append(r)\n",
    "    f = f1_score(result, y_test, average=\"macro\")\n",
    "    f1.append(f)\n",
    "    cm_ = confusion_matrix(result, y_test)\n",
    "    plot_confusion_matrix(cm_, svm.classes_, normalize=True) \n",
    "    confusion.append(cm_)\n",
    "    \n",
    "    print(\"%s: %.2f %%\" % ('Acc', acc*100))\n",
    "    print(\"%s: %.2f %%\" % ('Precision', p*100))\n",
    "    print(\"%s: %.2f %%\" % ('Recall', r*100))\n",
    "    print(\"%s: %.2f %%\" % ('F1', f*100))\n",
    "    print('')\n",
    "\n",
    "print(\"Acc %.2f %% (+/- %.2f %%)\" % (np.mean(accuracy)*100, np.std(accuracy)*100))\n",
    "print(\"Precision %.2f %% (+/- %.2f %%)\" % (np.mean(precision)*100, np.std(precision)*100))\n",
    "print(\"Recall %.2f %% (+/- %.2f %%)\" % (np.mean(recall)*100, np.std(recall)*100))\n",
    "print(\"F1 %.2f %% (+/- %.2f %%)\" % (np.mean(f1)*100, np.std(f1)*100))\n",
    "\n",
    "nc = []\n",
    "for c in confusion:\n",
    "    d = len(svm.classes_) - len(c)\n",
    "    c = np.pad(c, (0,d), 'constant')\n",
    "    nc.append(c)\n",
    "confusion = nc\n",
    "cm = np.mean(confusion, axis=0)\n",
    "plot_confusion_matrix(cm, svm.classes_, normalize=True) "
   ]
  },
  {
   "cell_type": "markdown",
   "metadata": {},
   "source": [
    "## Debug and Check data"
   ]
  },
  {
   "cell_type": "code",
   "execution_count": null,
   "metadata": {},
   "outputs": [],
   "source": [
    "for x_, y_, g_ in zip(X,y,group):\n",
    "    if y_ == 'Credibility' and g_ != 'checkyourfact':\n",
    "        print(x_)"
   ]
  },
  {
   "cell_type": "code",
   "execution_count": null,
   "metadata": {},
   "outputs": [],
   "source": [
    "svm.predict([[x__] for x__ in range(0,350)])"
   ]
  },
  {
   "cell_type": "code",
   "execution_count": 17,
   "metadata": {},
   "outputs": [
    {
     "data": {
      "text/plain": [
       "{'abc': 2,\n",
       " 'africacheck': 5,\n",
       " 'checkyourfact': 10,\n",
       " 'factcheckni': 7,\n",
       " 'fullfact': 9,\n",
       " 'politifact': 1,\n",
       " 'rappler': 0,\n",
       " 'snope': 4,\n",
       " 'theconversation': 3,\n",
       " 'theferret': 6,\n",
       " 'truthorfiction': 8}"
      ]
     },
     "execution_count": 17,
     "metadata": {},
     "output_type": "execute_result"
    }
   ],
   "source": [
    "site2Idx"
   ]
  },
  {
   "cell_type": "code",
   "execution_count": null,
   "metadata": {},
   "outputs": [],
   "source": [
    "len(X)"
   ]
  },
  {
   "cell_type": "code",
   "execution_count": null,
   "metadata": {},
   "outputs": [],
   "source": [
    "%%time\n",
    "from sklearn.svm import LinearSVC\n",
    "from sklearn.naive_bayes import BernoulliNB, MultinomialNB\n",
    "from sklearn.ensemble import RandomForestClassifier\n",
    "from sklearn.model_selection import GroupKFold\n",
    "from keras.wrappers.scikit_learn import KerasClassifier\n",
    "from sklearn.metrics import accuracy_score, f1_score, precision_score, recall_score, confusion_matrix\n",
    "\n",
    "\n",
    "accuracy = []\n",
    "precision = []\n",
    "recall = []\n",
    "f1 = []\n",
    "confusion = []\n",
    "\n",
    "X_train = X[:20000]\n",
    "y_train = y[:20000]\n",
    "    \n",
    "X_test = X[20000:]\n",
    "y_test = y[20000:]\n",
    "\n",
    "svm = RandomForestClassifier()\n",
    "svm.fit(X_train, y_train)\n",
    "result = svm.predict(X_test)\n",
    "\n",
    "acc = accuracy_score(result, y_test)\n",
    "accuracy.append(acc)\n",
    "p = precision_score(result, y_test, average=\"macro\")\n",
    "precision.append(p)\n",
    "r = recall_score(result, y_test, average=\"macro\")\n",
    "recall.append(r)\n",
    "f = f1_score(result, y_test, average=\"macro\")\n",
    "f1.append(f)\n",
    "confusion.append(confusion_matrix(result, y_test))\n",
    "    \n",
    "print(\"%s: %.2f %%\" % ('Acc', acc*100))\n",
    "print(\"%s: %.2f %%\" % ('Precision', p*100))\n",
    "print(\"%s: %.2f %%\" % ('Recall', r*100))\n",
    "print(\"%s: %.2f %%\" % ('F1', f*100))\n",
    "print('')\n",
    "\n",
    "print(\"Acc %.2f %% (+/- %.2f %%)\" % (np.mean(accuracy)*100, np.std(accuracy)*100))\n",
    "print(\"Precision %.2f %% (+/- %.2f %%)\" % (np.mean(precision)*100, np.std(precision)*100))\n",
    "print(\"Recall %.2f %% (+/- %.2f %%)\" % (np.mean(recall)*100, np.std(recall)*100))\n",
    "print(\"F1 %.2f %% (+/- %.2f %%)\" % (np.mean(f1)*100, np.std(f1)*100))\n",
    "\n",
    "nc = []\n",
    "for c in confusion:\n",
    "    d = len(svm.classes_) - len(c)\n",
    "    c = np.pad(c, (0,d), 'constant')\n",
    "    nc.append(c)\n",
    "confusion = nc\n",
    "cm = np.mean(confusion, axis=0)\n",
    "plot_confusion_matrix(cm, svm.classes_, normalize=True) "
   ]
  },
  {
   "cell_type": "code",
   "execution_count": null,
   "metadata": {},
   "outputs": [],
   "source": []
  }
 ],
 "metadata": {
  "kernelspec": {
   "display_name": "Python 3",
   "language": "python",
   "name": "python3"
  },
  "language_info": {
   "codemirror_mode": {
    "name": "ipython",
    "version": 3
   },
   "file_extension": ".py",
   "mimetype": "text/x-python",
   "name": "python",
   "nbconvert_exporter": "python",
   "pygments_lexer": "ipython3",
   "version": "3.6.4"
  }
 },
 "nbformat": 4,
 "nbformat_minor": 2
}
