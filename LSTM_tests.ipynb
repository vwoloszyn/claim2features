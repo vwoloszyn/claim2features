{
 "cells": [
  {
   "cell_type": "markdown",
   "metadata": {},
   "source": [
    "### Load data"
   ]
  },
  {
   "cell_type": "code",
   "execution_count": 1,
   "metadata": {},
   "outputs": [
    {
     "name": "stderr",
     "output_type": "stream",
     "text": [
      "/usr/lib/python3.6/importlib/_bootstrap.py:219: RuntimeWarning: numpy.dtype size changed, may indicate binary incompatibility. Expected 96, got 88\n",
      "  return f(*args, **kwds)\n"
     ]
    }
   ],
   "source": [
    "import pandas as pd\n",
    "import numpy as np\n",
    "\n",
    "\n",
    "data_path = 'features_annotated.csv'\n",
    "df = pd.read_csv(data_path)"
   ]
  },
  {
   "cell_type": "code",
   "execution_count": 2,
   "metadata": {},
   "outputs": [],
   "source": [
    "X_columns = ['tag', 'level']\n",
    "y_column = 'label'\n",
    "\n",
    "X = df[X_columns].values\n",
    "y = df[y_column].values"
   ]
  },
  {
   "cell_type": "markdown",
   "metadata": {},
   "source": [
    "### Create a mapping for the labels"
   ]
  },
  {
   "cell_type": "code",
   "execution_count": 45,
   "metadata": {},
   "outputs": [],
   "source": [
    "labelSet = set()\n",
    "for l in y:\n",
    "    labelSet.add(l)\n",
    "\n",
    "label2Idx = {}\n",
    "for label in labelSet:\n",
    "    label2Idx[label] = len(label2Idx)\n",
    "labelEmbeddings = np.identity(len(label2Idx), dtype='float32')"
   ]
  },
  {
   "cell_type": "code",
   "execution_count": 36,
   "metadata": {},
   "outputs": [
    {
     "data": {
      "text/plain": [
       "{'Claim': 0,\n",
       " 'Body': 1,\n",
       " 'None': 2,\n",
       " 'Title': 3,\n",
       " 'Date': 4,\n",
       " 'Credibility': 5,\n",
       " 'Sources': 6}"
      ]
     },
     "execution_count": 36,
     "metadata": {},
     "output_type": "execute_result"
    }
   ],
   "source": [
    "label2Idx"
   ]
  },
  {
   "cell_type": "markdown",
   "metadata": {},
   "source": [
    "### Create a mapping for the tags"
   ]
  },
  {
   "cell_type": "code",
   "execution_count": 46,
   "metadata": {},
   "outputs": [],
   "source": [
    "tagSet = set()\n",
    "for t in df['tag'].values:\n",
    "    tagSet.add(t)\n",
    "\n",
    "tag2Idx = {}\n",
    "for tag in tagSet:\n",
    "    tag2Idx[tag] = len(tag2Idx)\n",
    "tagEmbeddings = np.identity(len(tag2Idx), dtype='float32')"
   ]
  },
  {
   "cell_type": "code",
   "execution_count": 47,
   "metadata": {},
   "outputs": [],
   "source": [
    "levelEmbeddings = np.identity(max(df['level'].values), dtype='float32')"
   ]
  },
  {
   "cell_type": "code",
   "execution_count": 78,
   "metadata": {},
   "outputs": [],
   "source": [
    "tag_features = []\n",
    "level_features = []\n",
    "labels = []\n",
    "for X_, y_ in zip(X, y):\n",
    "    tag_features.append(tagEmbeddings[tag2Idx[X_[0]]])\n",
    "    level_features.append(levelEmbeddings[X_[1]-1])\n",
    "    labels.append(labelEmbeddings[label2Idx[y_]])\n",
    "tag_features = np.array(tag_features)\n",
    "level_features = np.array(level_features)\n",
    "labels = np.array(labels)"
   ]
  },
  {
   "cell_type": "code",
   "execution_count": 80,
   "metadata": {},
   "outputs": [
    {
     "data": {
      "text/plain": [
       "array([[0., 0., 0., ..., 0., 0., 1.],\n",
       "       [1., 0., 0., ..., 0., 0., 0.],\n",
       "       [0., 1., 0., ..., 0., 0., 0.],\n",
       "       ...,\n",
       "       [0., 0., 0., ..., 0., 0., 0.],\n",
       "       [0., 0., 1., ..., 0., 0., 0.],\n",
       "       [0., 0., 0., ..., 0., 0., 0.]], dtype=float32)"
      ]
     },
     "execution_count": 80,
     "metadata": {},
     "output_type": "execute_result"
    }
   ],
   "source": [
    "level_features"
   ]
  },
  {
   "cell_type": "markdown",
   "metadata": {},
   "source": [
    "### Dense Model"
   ]
  },
  {
   "cell_type": "code",
   "execution_count": 95,
   "metadata": {},
   "outputs": [
    {
     "name": "stdout",
     "output_type": "stream",
     "text": [
      "Epoch 1/10\n",
      "6331/6331 [==============================] - 1s 180us/step - loss: 0.4898 - acc: 0.8931\n",
      "Epoch 2/10\n",
      "6331/6331 [==============================] - 0s 46us/step - loss: 0.2576 - acc: 0.9205\n",
      "Epoch 3/10\n",
      "6331/6331 [==============================] - 0s 45us/step - loss: 0.2294 - acc: 0.9217\n",
      "Epoch 4/10\n",
      "6331/6331 [==============================] - 0s 47us/step - loss: 0.2213 - acc: 0.9231\n",
      "Epoch 5/10\n",
      "6331/6331 [==============================] - 0s 48us/step - loss: 0.2162 - acc: 0.9250\n",
      "Epoch 6/10\n",
      "6331/6331 [==============================] - 0s 45us/step - loss: 0.2128 - acc: 0.9251\n",
      "Epoch 7/10\n",
      "6331/6331 [==============================] - 0s 44us/step - loss: 0.2115 - acc: 0.9232\n",
      "Epoch 8/10\n",
      "6331/6331 [==============================] - 0s 46us/step - loss: 0.2088 - acc: 0.9226\n",
      "Epoch 9/10\n",
      "6331/6331 [==============================] - 0s 48us/step - loss: 0.2081 - acc: 0.9237\n",
      "Epoch 10/10\n",
      "6331/6331 [==============================] - 0s 48us/step - loss: 0.2061 - acc: 0.9250\n"
     ]
    },
    {
     "data": {
      "text/plain": [
       "<keras.callbacks.History at 0x7f2824cd19e8>"
      ]
     },
     "execution_count": 95,
     "metadata": {},
     "output_type": "execute_result"
    }
   ],
   "source": [
    "from keras.models import Model\n",
    "from keras.layers import TimeDistributed,Conv1D,Dense,Embedding,Input,Dropout,LSTM,Bidirectional,MaxPooling1D,Flatten,concatenate\n",
    "\n",
    "\n",
    "tag_input = Input(shape=(tagEmbeddings.shape[0],))\n",
    "tag_ = Dense(32, activation='relu')(tag_input)\n",
    "tag_ = Dense(16, activation='relu')(tag_)\n",
    "\n",
    "level_input = Input(shape=(levelEmbeddings.shape[0],))\n",
    "level_ = Dense(32, activation='relu')(level_input)\n",
    "level_ = Dense(16, activation='relu')(level_)\n",
    "\n",
    "output = concatenate([tag_, level_])\n",
    "output = Dense(32, activation='relu')(output)\n",
    "output = Dense(16, activation='relu')(output)\n",
    "output = Dense(len(label2Idx), activation='softmax')(output)\n",
    "\n",
    "model = Model(inputs=[tag_input, level_input], outputs=[output])\n",
    "model.compile(optimizer='rmsprop',\n",
    "              loss='categorical_crossentropy',\n",
    "              metrics=['accuracy'])\n",
    "model.fit([tag_features, level_features], labels, epochs=10)"
   ]
  },
  {
   "cell_type": "markdown",
   "metadata": {},
   "source": [
    "### LSTM model"
   ]
  },
  {
   "cell_type": "code",
   "execution_count": 114,
   "metadata": {},
   "outputs": [
    {
     "name": "stdout",
     "output_type": "stream",
     "text": [
      "__________________________________________________________________________________________________\n",
      "Layer (type)                    Output Shape         Param #     Connected to                     \n",
      "==================================================================================================\n",
      "tags_input (InputLayer)         (None, None)         0                                            \n",
      "__________________________________________________________________________________________________\n",
      "levels_input (InputLayer)       (None, None)         0                                            \n",
      "__________________________________________________________________________________________________\n",
      "embedding_53 (Embedding)        (None, None, 72)     5184        tags_input[0][0]                 \n",
      "__________________________________________________________________________________________________\n",
      "embedding_54 (Embedding)        (None, None, 20)     400         levels_input[0][0]               \n",
      "__________________________________________________________________________________________________\n",
      "concatenate_49 (Concatenate)    (None, None, 92)     0           embedding_53[0][0]               \n",
      "                                                                 embedding_54[0][0]               \n",
      "__________________________________________________________________________________________________\n",
      "bidirectional_24 (Bidirectional (None, None, 400)    468800      concatenate_49[0][0]             \n",
      "__________________________________________________________________________________________________\n",
      "time_distributed_26 (TimeDistri (None, None, 7)      2807        bidirectional_24[0][0]           \n",
      "==================================================================================================\n",
      "Total params: 477,191\n",
      "Trainable params: 471,607\n",
      "Non-trainable params: 5,584\n",
      "__________________________________________________________________________________________________\n"
     ]
    }
   ],
   "source": [
    "from keras.models import Model\n",
    "from keras.layers import TimeDistributed,Conv1D,Dense,Embedding,Input,Dropout,LSTM,Bidirectional,MaxPooling1D,Flatten,concatenate\n",
    "\n",
    "\n",
    "tag_input = Input(shape=(None,), dtype='int32', name='tags_input')\n",
    "tag = Embedding(output_dim=tagEmbeddings.shape[1], input_dim=tagEmbeddings.shape[0], weights=[tagEmbeddings], trainable=False)(tag_input)\n",
    "\n",
    "level_input = Input(shape=(None,), dtype='int32', name='levels_input')\n",
    "level = Embedding(output_dim=levelEmbeddings.shape[1], input_dim=levelEmbeddings.shape[0], weights=[levelEmbeddings], trainable=False)(level_input)\n",
    "\n",
    "output = concatenate([tag, level])\n",
    "output = Bidirectional(LSTM(200, return_sequences=True, dropout=0.50, recurrent_dropout=0.25))(output)\n",
    "output = TimeDistributed(Dense(len(label2Idx), activation='softmax'))(output)\n",
    "\n",
    "model = Model(inputs=[tag_input, level_input], outputs=[output])\n",
    "model.compile(loss='sparse_categorical_crossentropy', optimizer='rmsprop')\n",
    "model.summary()\n",
    "#model.fit([tag_features, level_features], labels, epochs=10)"
   ]
  }
 ],
 "metadata": {
  "kernelspec": {
   "display_name": "Python 3",
   "language": "python",
   "name": "python3"
  },
  "language_info": {
   "codemirror_mode": {
    "name": "ipython",
    "version": 3
   },
   "file_extension": ".py",
   "mimetype": "text/x-python",
   "name": "python",
   "nbconvert_exporter": "python",
   "pygments_lexer": "ipython3",
   "version": "3.6.5"
  }
 },
 "nbformat": 4,
 "nbformat_minor": 2
}
