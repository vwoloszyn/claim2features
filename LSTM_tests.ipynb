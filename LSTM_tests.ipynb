{
 "cells": [
  {
   "cell_type": "code",
   "execution_count": 1,
   "metadata": {},
   "outputs": [],
   "source": [
    "import warnings\n",
    "warnings.filterwarnings(\"ignore\")"
   ]
  },
  {
   "cell_type": "markdown",
   "metadata": {},
   "source": [
    "### Load data"
   ]
  },
  {
   "cell_type": "code",
   "execution_count": 2,
   "metadata": {},
   "outputs": [],
   "source": [
    "import pandas as pd\n",
    "import numpy as np\n",
    "\n",
    "\n",
    "data_path = 'features_annotated.csv'\n",
    "df = pd.read_csv(data_path)"
   ]
  },
  {
   "cell_type": "markdown",
   "metadata": {},
   "source": [
    "### Create a mapping for the URLs"
   ]
  },
  {
   "cell_type": "code",
   "execution_count": 3,
   "metadata": {},
   "outputs": [],
   "source": [
    "urlSet = set()\n",
    "for u in df['url'].values:\n",
    "    urlSet.add(u)\n",
    "\n",
    "url2Idx = {}\n",
    "for url in urlSet:\n",
    "    url2Idx[url] = len(url2Idx)"
   ]
  },
  {
   "cell_type": "code",
   "execution_count": null,
   "metadata": {
    "scrolled": true
   },
   "outputs": [],
   "source": [
    "url2Idx"
   ]
  },
  {
   "cell_type": "markdown",
   "metadata": {},
   "source": [
    "### Create a mapping for the labels"
   ]
  },
  {
   "cell_type": "code",
   "execution_count": 4,
   "metadata": {},
   "outputs": [],
   "source": [
    "labelSet = set()\n",
    "for l in df['label'].values:\n",
    "    labelSet.add(l)\n",
    "\n",
    "label2Idx = {}\n",
    "for label in labelSet:\n",
    "    label2Idx[label] = len(label2Idx)\n",
    "labelEmbeddings = np.identity(len(label2Idx), dtype='float32')"
   ]
  },
  {
   "cell_type": "code",
   "execution_count": 110,
   "metadata": {},
   "outputs": [],
   "source": [
    "class_weight = {\n",
    "    label2Idx['Body']: 2.,\n",
    "    label2Idx['Claim']: 15.,\n",
    "    label2Idx['Credibility']: 15.,\n",
    "    label2Idx['Date']: 15.,\n",
    "    label2Idx['None']: 1.,\n",
    "    label2Idx['Sources']: 3.,\n",
    "    label2Idx['Title']: 15.,\n",
    "}"
   ]
  },
  {
   "cell_type": "code",
   "execution_count": null,
   "metadata": {
    "scrolled": true
   },
   "outputs": [],
   "source": [
    "label2Idx"
   ]
  },
  {
   "cell_type": "markdown",
   "metadata": {},
   "source": [
    "### Create a mapping for the tags"
   ]
  },
  {
   "cell_type": "code",
   "execution_count": 5,
   "metadata": {},
   "outputs": [],
   "source": [
    "tagSet = set()\n",
    "for t in df['tag'].values:\n",
    "    tagSet.add(t)\n",
    "\n",
    "tag2Idx = {}\n",
    "for tag in tagSet:\n",
    "    tag2Idx[tag] = len(tag2Idx)\n",
    "tagEmbeddings = np.identity(len(tag2Idx), dtype='float32')"
   ]
  },
  {
   "cell_type": "code",
   "execution_count": null,
   "metadata": {},
   "outputs": [],
   "source": [
    "tag2Idx"
   ]
  },
  {
   "cell_type": "markdown",
   "metadata": {},
   "source": [
    "### Data to features"
   ]
  },
  {
   "cell_type": "code",
   "execution_count": 91,
   "metadata": {},
   "outputs": [],
   "source": [
    "import ast\n",
    "\n",
    "\n",
    "columns = ['url', 'label', 'tag', 'level', 'attrs']  # 0 url  1 label\n",
    "features = {'tags': [], 'levels': [], 'attrs': [], 'labels': [], 'groups': []}\n",
    "\n",
    "line = 0\n",
    "last_group = ''\n",
    "\n",
    "for data in df[columns].values:\n",
    "    if last_group != data[0]:\n",
    "        last_group = data[0]\n",
    "        line = 0\n",
    "    else:\n",
    "        line += 1\n",
    "    features['groups'].append(url2Idx[data[0]])\n",
    "    #features['labels'].append(labelEmbeddings[label2Idx[data[1]]])\n",
    "    features['labels'].append(label2Idx[data[1]])\n",
    "    features['tags'].append(tagEmbeddings[tag2Idx[data[2]]])\n",
    "    #features['labels'].append(data[1])\n",
    "    #features['tags'].append(data[2])\n",
    "    features['levels'].append([data[3], line])\n",
    "    #features['levels'].append(levelEmbeddings[data[3]-1])\n",
    "    features['attrs'].append(ast.literal_eval(data[4]))\n",
    "features['tags'] = np.array(features['tags'])\n",
    "features['levels'] = np.array(features['levels'])\n",
    "features['labels'] = np.array(features['labels'])\n",
    "features['groups'] = np.array(features['groups'])"
   ]
  },
  {
   "cell_type": "markdown",
   "metadata": {},
   "source": [
    "### CSS classes feature"
   ]
  },
  {
   "cell_type": "code",
   "execution_count": 92,
   "metadata": {},
   "outputs": [],
   "source": [
    "import re\n",
    "\n",
    "\n",
    "features['css_classes'] = []\n",
    "\n",
    "for attr in features['attrs']:\n",
    "    if 'class' in attr:\n",
    "        classes = attr['class']\n",
    "        classes_ = []\n",
    "        for clss in classes:\n",
    "            classes_ += re.split('[\\W_]+', clss)\n",
    "        features['css_classes'].append(classes_)\n",
    "    else:\n",
    "        features['css_classes'].append([])"
   ]
  },
  {
   "cell_type": "markdown",
   "metadata": {},
   "source": [
    "#### Create a mapping for the CSS classes"
   ]
  },
  {
   "cell_type": "code",
   "execution_count": 93,
   "metadata": {},
   "outputs": [],
   "source": [
    "cssClassesSet = set()\n",
    "for data in features['css_classes']:\n",
    "    for clss in data:\n",
    "        cssClassesSet.add(clss)\n",
    "\n",
    "cssClasses2Idx = {}\n",
    "for tag in cssClassesSet:\n",
    "    cssClasses2Idx[tag] = len(cssClasses2Idx)\n",
    "\n",
    "for i in range(len(features['css_classes'])):\n",
    "    aux_m = np.zeros(len(cssClasses2Idx))\n",
    "    for clss in features['css_classes'][i]:\n",
    "        indx = cssClasses2Idx[clss]\n",
    "        aux_m[indx] += 1\n",
    "    features['css_classes'][i] = aux_m\n",
    "features['css_classes'] = np.array(features['css_classes'])"
   ]
  },
  {
   "cell_type": "markdown",
   "metadata": {},
   "source": [
    "### Util - Plot confusion matrix"
   ]
  },
  {
   "cell_type": "code",
   "execution_count": 94,
   "metadata": {},
   "outputs": [],
   "source": [
    "import matplotlib.pyplot as plt\n",
    "import itertools\n",
    "\n",
    "\n",
    "def plot_confusion_matrix(cm, classes,\n",
    "                          normalize=True,\n",
    "                          title='Confusion matrix',\n",
    "                          cmap=plt.cm.Blues):\n",
    "    \"\"\"\n",
    "    This function prints and plots the confusion matrix.\n",
    "    Normalization can be applied by setting `normalize=True`.\n",
    "    \"\"\"\n",
    "    if normalize:\n",
    "        cm = cm.astype('float') / cm.sum(axis=1)[:, np.newaxis]\n",
    "\n",
    "    plt.imshow(cm, interpolation='nearest', cmap=cmap)\n",
    "    plt.title(title)\n",
    "    plt.colorbar()\n",
    "    tick_marks = np.arange(len(classes))\n",
    "    plt.xticks(tick_marks, classes, rotation=45)\n",
    "    plt.yticks(tick_marks, classes)\n",
    "\n",
    "    fmt = '.2f' if normalize else 'd'\n",
    "    thresh = cm.max() / 2.\n",
    "    for i, j in itertools.product(range(cm.shape[0]), range(cm.shape[1])):\n",
    "        plt.text(j, i, format(cm[i, j], fmt),\n",
    "                 horizontalalignment=\"center\",\n",
    "                 color=\"white\" if cm[i, j] > thresh else \"black\")\n",
    "\n",
    "    plt.tight_layout()\n",
    "    plt.ylabel('True label')\n",
    "    plt.xlabel('Predicted label')"
   ]
  },
  {
   "cell_type": "markdown",
   "metadata": {},
   "source": [
    "### Dense Model"
   ]
  },
  {
   "cell_type": "code",
   "execution_count": 95,
   "metadata": {
    "scrolled": true
   },
   "outputs": [],
   "source": [
    "from keras.models import Model\n",
    "from keras.layers import TimeDistributed,Conv1D,Dense,Embedding,Input,Dropout,LSTM,Bidirectional,MaxPooling1D,Flatten,concatenate\n",
    "\n",
    "\n",
    "def dense_model():\n",
    "    tag_input = Input(shape=(tagEmbeddings.shape[0],))\n",
    "    tag_ = Dense(64, activation='relu')(tag_input)\n",
    "    tag_ = Dense(32, activation='relu')(tag_)\n",
    "\n",
    "    level_input = Input(shape=(2,), dtype='float32')\n",
    "    level_ = Dense(2, activation='relu')(level_input)\n",
    "    \n",
    "    css_classes_input = Input(shape=(len(cssClasses2Idx),))\n",
    "    css_classes_ = Dense(512, activation='relu')(css_classes_input)\n",
    "    css_classes_ = Dense(256, activation='relu')(css_classes_input)\n",
    "    css_classes_ = Dense(128, activation='relu')(css_classes_)\n",
    "\n",
    "    output = concatenate([tag_, level_, css_classes_])\n",
    "    output = Dense(256, activation='relu')(output)\n",
    "    output = Dense(128, activation='relu')(output)\n",
    "    #output = Dense(len(label2Idx), activation='softmax')(output)\n",
    "    output = Dense(len(label2Idx), activation='softmax')(output)\n",
    "\n",
    "    model = Model(inputs=[tag_input, level_input, css_classes_input], outputs=[output])\n",
    "    model.compile(optimizer='rmsprop',\n",
    "                  loss='categorical_crossentropy',\n",
    "                  metrics=['accuracy'])\n",
    "    return model"
   ]
  },
  {
   "cell_type": "markdown",
   "metadata": {},
   "source": [
    "#### Cross Validation - Dense Model"
   ]
  },
  {
   "cell_type": "code",
   "execution_count": null,
   "metadata": {
    "scrolled": true
   },
   "outputs": [
    {
     "name": "stdout",
     "output_type": "stream",
     "text": [
      "Train Groups (URLs) {0, 2, 3, 4, 5, 6, 7, 8, 9, 10}\n",
      "Test Groups (URLs) {1}\n",
      "Acc: 88.63 %\n",
      "Precision: 23.98 %\n",
      "Recall: 37.46 %\n",
      "F1: 26.98 %\n",
      "\n",
      "Train Groups (URLs) {0, 1, 2, 3, 5, 6, 8, 9, 10}\n",
      "Test Groups (URLs) {4, 7}\n",
      "Acc: 90.68 %\n",
      "Precision: 29.29 %\n",
      "Recall: 26.62 %\n",
      "F1: 27.77 %\n",
      "\n",
      "Train Groups (URLs) {0, 1, 2, 4, 5, 6, 7, 8, 9}\n",
      "Test Groups (URLs) {10, 3}\n"
     ]
    }
   ],
   "source": [
    "from sklearn.model_selection import GroupKFold\n",
    "from keras.wrappers.scikit_learn import KerasClassifier\n",
    "from sklearn.metrics import accuracy_score, f1_score, precision_score, recall_score, confusion_matrix\n",
    "\n",
    "\n",
    "accuracy = []\n",
    "precision = []\n",
    "recall = []\n",
    "f1 = []\n",
    "confusion = []\n",
    "\n",
    "gp = GroupKFold(n_splits=5)\n",
    "for train_indexs, test_indexs in gp.split(features['tags'], groups=features['groups']):\n",
    "    \n",
    "    tags_train = features['tags'][train_indexs]\n",
    "    levels_train = features['levels'][train_indexs]\n",
    "    cssClasses_train = features['css_classes'][train_indexs]\n",
    "    X_train = [tags_train, levels_train, cssClasses_train]\n",
    "    y_train = features['labels'][train_indexs]\n",
    "    \n",
    "    tags_test = features['tags'][test_indexs]\n",
    "    levels_test = features['levels'][test_indexs]\n",
    "    cssClasses_test = features['css_classes'][test_indexs]\n",
    "    X_test = [tags_test, levels_test, cssClasses_test]\n",
    "    y_test = features['labels'][test_indexs]\n",
    "\n",
    "    groups_train = features['groups'][train_indexs]\n",
    "    groups_test = features['groups'][test_indexs]\n",
    "    train_g = set()\n",
    "    test_g = set()\n",
    "    for g in groups_train:\n",
    "        train_g.add(g)\n",
    "    for g in groups_test:\n",
    "        test_g.add(g)\n",
    "    print('Train Groups (URLs)', train_g)\n",
    "    print('Test Groups (URLs)', test_g)\n",
    "    \n",
    "    model = KerasClassifier(build_fn=dense_model)\n",
    "    model.fit(X_train, y_train, epochs=10, verbose=0) # class_weight=class_weight\n",
    "\n",
    "    result = model.predict(X_test)\n",
    "    #y_test = [r.tolist().index(1) for r in y_test]\n",
    "    acc = accuracy_score(result, y_test)\n",
    "    accuracy.append(acc)\n",
    "    p = precision_score(result, y_test, average=\"macro\")\n",
    "    precision.append(p)\n",
    "    r = recall_score(result, y_test, average=\"macro\")\n",
    "    recall.append(r)\n",
    "    f = f1_score(result, y_test, average=\"macro\")\n",
    "    f1.append(f)\n",
    "    confusion.append(confusion_matrix(result, y_test))\n",
    "    \n",
    "    print(\"%s: %.2f %%\" % ('Acc', acc*100))\n",
    "    print(\"%s: %.2f %%\" % ('Precision', p*100))\n",
    "    print(\"%s: %.2f %%\" % ('Recall', r*100))\n",
    "    print(\"%s: %.2f %%\" % ('F1', f*100))\n",
    "    print('')\n",
    "\n",
    "print(\"Acc %.2f %% (+/- %.2f %%)\" % (np.mean(accuracy)*100, np.std(accuracy)*100))\n",
    "print(\"Precision %.2f %% (+/- %.2f %%)\" % (np.mean(precision)*100, np.std(precision)*100))\n",
    "print(\"Recall %.2f %% (+/- %.2f %%)\" % (np.mean(recall)*100, np.std(recall)*100))\n",
    "print(\"F1 %.2f %% (+/- %.2f %%)\" % (np.mean(f1)*100, np.std(f1)*100))"
   ]
  },
  {
   "cell_type": "markdown",
   "metadata": {},
   "source": [
    "###### Dense - Confusion Matrix plot"
   ]
  },
  {
   "cell_type": "code",
   "execution_count": 112,
   "metadata": {},
   "outputs": [
    {
     "data": {
      "image/png": "[encoded data removed]",
      "text/plain": [
       "<matplotlib.figure.Figure at 0x256d62cca58>"
      ]
     },
     "metadata": {},
     "output_type": "display_data"
    }
   ],
   "source": [
    "nc = []\n",
    "for c in confusion:\n",
    "    d = len(label2Idx) - len(c)\n",
    "    c = np.pad(c, (0,d), 'constant')\n",
    "    nc.append(c)\n",
    "confusion = nc\n",
    "cm = np.mean(confusion, axis=0)\n",
    "plot_confusion_matrix(cm, label2Idx.keys(), normalize=True)"
   ]
  },
  {
   "cell_type": "code",
   "execution_count": 19,
   "metadata": {},
   "outputs": [
    {
     "data": {
      "image/png": "[encoded data removed]",
      "text/plain": [
       "<matplotlib.figure.Figure at 0x1c8960f8c18>"
      ]
     },
     "metadata": {},
     "output_type": "display_data"
    }
   ],
   "source": [
    "Tag + Levels"
   ]
  },
  {
   "cell_type": "markdown",
   "metadata": {},
   "source": [
    "### LSTM model"
   ]
  },
  {
   "cell_type": "code",
   "execution_count": 13,
   "metadata": {},
   "outputs": [],
   "source": [
    "from keras.models import Model, Sequential\n",
    "from keras.layers import TimeDistributed,Conv1D,Dense,Embedding,Input,Dropout,LSTM,Bidirectional,MaxPooling1D,Flatten,concatenate,Concatenate\n",
    "\n",
    "\n",
    "def lstm_model_working():\n",
    "    input_tags = Input(shape=(None, tagEmbeddings.shape[0]))\n",
    "    lstm_tags = LSTM(150)(input_tags)\n",
    "    output = Dense(len(label2Idx))(lstm_tags)\n",
    "    model = Model(inputs=[input_tags], outputs=[output])\n",
    "    model.compile(loss='categorical_crossentropy', optimizer='rmsprop')\n",
    "    #model.summary()\n",
    "    return model\n",
    "\n",
    "def lstm_model():\n",
    "    input_tags = Input(shape=(None, tagEmbeddings.shape[0]))\n",
    "    lstm_tags = LSTM(150)(input_tags)\n",
    "    \n",
    "    input_levels = Input(shape=(None, levelEmbeddings.shape[0]))\n",
    "    lstm_levels = LSTM(150)(input_levels)\n",
    "    \n",
    "    output = concatenate([lstm_tags, lstm_levels])\n",
    "    output = Dense(len(label2Idx))(output)\n",
    "    model = Model(inputs=[input_tags, input_levels], outputs=[output])\n",
    "    model.compile(loss='categorical_crossentropy', optimizer='rmsprop')\n",
    "    #model.summary()\n",
    "    return model"
   ]
  },
  {
   "cell_type": "markdown",
   "metadata": {},
   "source": [
    "#### Cross Validation - LSTM Model"
   ]
  },
  {
   "cell_type": "code",
   "execution_count": 66,
   "metadata": {
    "scrolled": true
   },
   "outputs": [
    {
     "name": "stdout",
     "output_type": "stream",
     "text": [
      "Train Groups (URLs) {0, 1, 2, 3, 5, 6, 7, 8, 9, 10}\n",
      "Test Groups (URLs) {4}\n",
      "Acc: 75.57 %\n",
      "Precision: 12.52 %\n",
      "Recall: 12.17 %\n",
      "F1: 12.34 %\n",
      "\n",
      "Train Groups (URLs) {0, 1, 2, 3, 4, 5, 6, 8, 9, 10}\n",
      "Test Groups (URLs) {7}\n",
      "Acc: 0.40 %\n",
      "Precision: 1.53 %\n",
      "Recall: 0.34 %\n",
      "F1: 0.56 %\n",
      "\n",
      "Train Groups (URLs) {0, 1, 2, 3, 4, 5, 7, 8, 9, 10}\n",
      "Test Groups (URLs) {6}\n",
      "Acc: 96.48 %\n",
      "Precision: 14.29 %\n",
      "Recall: 13.78 %\n",
      "F1: 14.03 %\n",
      "\n",
      "Train Groups (URLs) {0, 2, 3, 4, 5, 6, 7, 8, 9, 10}\n",
      "Test Groups (URLs) {1}\n",
      "Acc: 86.29 %\n",
      "Precision: 14.29 %\n",
      "Recall: 12.33 %\n",
      "F1: 13.23 %\n",
      "\n",
      "Train Groups (URLs) {0, 1, 3, 4, 5, 6, 7, 8, 9, 10}\n",
      "Test Groups (URLs) {2}\n",
      "Acc: 56.56 %\n",
      "Precision: 33.72 %\n",
      "Recall: 15.99 %\n",
      "F1: 13.79 %\n",
      "\n",
      "Train Groups (URLs) {0, 1, 2, 3, 4, 5, 6, 7, 9}\n",
      "Test Groups (URLs) {8, 10}\n",
      "Acc: 88.68 %\n",
      "Precision: 14.29 %\n",
      "Recall: 12.67 %\n",
      "F1: 13.43 %\n",
      "\n",
      "Train Groups (URLs) {0, 1, 2, 4, 6, 7, 8, 9, 10}\n",
      "Test Groups (URLs) {3, 5}\n",
      "Acc: 34.32 %\n",
      "Precision: 33.36 %\n",
      "Recall: 15.19 %\n",
      "F1: 12.49 %\n",
      "\n",
      "Train Groups (URLs) {1, 2, 3, 4, 5, 6, 7, 8, 10}\n",
      "Test Groups (URLs) {0, 9}\n",
      "Acc: 87.06 %\n",
      "Precision: 18.21 %\n",
      "Recall: 13.74 %\n",
      "F1: 13.88 %\n",
      "\n",
      "Acc 65.67 % (+/- 31.20 %)\n",
      "Precision 17.77 % (+/- 10.16 %)\n",
      "Recall 12.03 % (+/- 4.59 %)\n",
      "F1 11.72 % (+/- 4.26 %)\n"
     ]
    }
   ],
   "source": [
    "from sklearn.model_selection import GroupKFold\n",
    "from keras.wrappers.scikit_learn import KerasClassifier\n",
    "from sklearn.metrics import accuracy_score, f1_score, precision_score, recall_score, confusion_matrix\n",
    "\n",
    "\n",
    "accuracy = []\n",
    "precision = []\n",
    "recall = []\n",
    "f1 = []\n",
    "confusion = []\n",
    "\n",
    "gp = GroupKFold(n_splits=8)\n",
    "for train_indexs, test_indexs in gp.split(features['tags'], groups=features['groups']):\n",
    "    \n",
    "    #_trains = {}\n",
    "    #for i in train_indexs:\n",
    "    #    group_ = features['groups'][i]\n",
    "    #    tag_ = features['tags'][i]\n",
    "    #    level_ = features['levels'][i]\n",
    "    #    label_ = features['labels'][i]\n",
    "    #    if group_ not in _trains:\n",
    "    #        _trains[group_] = [[], [], []]\n",
    "    #    _trains[group_][0].append(tag_)\n",
    "    #    _trains[group_][1].append(level_)\n",
    "    #    _trains[group_][2].append(label_)\n",
    "\n",
    "    #X_train = [[np.array(_trains[x][0]), np.array(_trains[x][1])] for x in _trains]\n",
    "    #y_train = [np.array(_trains[y][-1]) for y in _trains]\n",
    "    \n",
    "    \n",
    "    tags_train = features['tags'][train_indexs]\n",
    "    tags_train = tags_train.reshape((tags_train.shape[0], 1, tags_train.shape[1])) # Test\n",
    "    levels_train = features['levels'][train_indexs]\n",
    "    levels_train = levels_train.reshape((levels_train.shape[0], 1, levels_train.shape[1])) # Test\n",
    "    X_train = [tags_train, levels_train]\n",
    "    y_train = features['labels'][train_indexs]\n",
    "    \n",
    "    tags_test = features['tags'][test_indexs]\n",
    "    tags_test = tags_test.reshape((tags_test.shape[0], 1, tags_test.shape[1])) # Test\n",
    "    levels_test = features['levels'][test_indexs]\n",
    "    levels_test = levels_test.reshape((levels_test.shape[0], 1, levels_test.shape[1])) # Test\n",
    "    X_test = [tags_test, levels_test]\n",
    "    y_test = features['labels'][test_indexs]\n",
    "\n",
    "    groups_train = features['groups'][train_indexs]\n",
    "    groups_test = features['groups'][test_indexs]\n",
    "    train_g = set()\n",
    "    test_g = set()\n",
    "    for g in groups_train:\n",
    "        train_g.add(g)\n",
    "    for g in groups_test:\n",
    "        test_g.add(g)\n",
    "    print('Train Groups (URLs)', train_g)\n",
    "    print('Test Groups (URLs)', test_g)\n",
    "    \n",
    "    #model = KerasClassifier(build_fn=lstm_model)\n",
    "    model.fit(X_train, y_train, epochs=5, verbose=0)\n",
    "    #model.fit(tags_train, y_train, epochs=5, verbose=0)\n",
    "\n",
    "    result = model.predict(X_test)\n",
    "    #result = model.predict(tags_test)\n",
    "    y_test = [r.tolist().index(1) for r in y_test]\n",
    "    acc = accuracy_score(result, y_test)\n",
    "    accuracy.append(acc)\n",
    "    p = precision_score(result, y_test, average=\"macro\")\n",
    "    precision.append(p)\n",
    "    r = recall_score(result, y_test, average=\"macro\")\n",
    "    recall.append(r)\n",
    "    f = f1_score(result, y_test, average=\"macro\")\n",
    "    f1.append(f)\n",
    "    confusion.append(confusion_matrix(result, y_test))\n",
    "    \n",
    "    print(\"%s: %.2f %%\" % ('Acc', acc*100))\n",
    "    print(\"%s: %.2f %%\" % ('Precision', p*100))\n",
    "    print(\"%s: %.2f %%\" % ('Recall', r*100))\n",
    "    print(\"%s: %.2f %%\" % ('F1', f*100))\n",
    "    print('')\n",
    "\n",
    "print(\"Acc %.2f %% (+/- %.2f %%)\" % (np.mean(accuracy)*100, np.std(accuracy)*100))\n",
    "print(\"Precision %.2f %% (+/- %.2f %%)\" % (np.mean(precision)*100, np.std(precision)*100))\n",
    "print(\"Recall %.2f %% (+/- %.2f %%)\" % (np.mean(recall)*100, np.std(recall)*100))\n",
    "print(\"F1 %.2f %% (+/- %.2f %%)\" % (np.mean(f1)*100, np.std(f1)*100))"
   ]
  },
  {
   "cell_type": "markdown",
   "metadata": {},
   "source": [
    "###### LSTM - Confusion Matrix plot"
   ]
  },
  {
   "cell_type": "code",
   "execution_count": 67,
   "metadata": {
    "scrolled": true
   },
   "outputs": [
    {
     "data": {
      "image/png": "[encoded data removed]",
      "text/plain": [
       "<matplotlib.figure.Figure at 0x2c1e66872e8>"
      ]
     },
     "metadata": {},
     "output_type": "display_data"
    }
   ],
   "source": [
    "nc = []\n",
    "for c in confusion:\n",
    "    d = len(label2Idx) - len(c)\n",
    "    c = np.pad(c, (0,d), 'constant')\n",
    "    nc.append(c)\n",
    "confusion = nc\n",
    "cm = np.mean(confusion, axis=0)\n",
    "plot_confusion_matrix(cm, label2Idx.keys(), normalize=True)"
   ]
  }
 ],
 "metadata": {
  "kernelspec": {
   "display_name": "Python 3",
   "language": "python",
   "name": "python3"
  },
  "language_info": {
   "codemirror_mode": {
    "name": "ipython",
    "version": 3
   },
   "file_extension": ".py",
   "mimetype": "text/x-python",
   "name": "python",
   "nbconvert_exporter": "python",
   "pygments_lexer": "ipython3",
   "version": "3.6.4"
  }
 },
 "nbformat": 4,
 "nbformat_minor": 2
}
