{
 "cells": [
  {
   "cell_type": "code",
   "execution_count": 1,
   "metadata": {},
   "outputs": [],
   "source": [
    "import warnings\n",
    "warnings.filterwarnings(\"ignore\")"
   ]
  },
  {
   "cell_type": "markdown",
   "metadata": {},
   "source": [
    "### Load data"
   ]
  },
  {
   "cell_type": "code",
   "execution_count": 2,
   "metadata": {},
   "outputs": [],
   "source": [
    "import pandas as pd\n",
    "import numpy as np\n",
    "\n",
    "\n",
    "data_path = 'features_annotated.csv'\n",
    "df = pd.read_csv(data_path)"
   ]
  },
  {
   "cell_type": "markdown",
   "metadata": {},
   "source": [
    "### Create a mapping for the URLs"
   ]
  },
  {
   "cell_type": "code",
   "execution_count": 3,
   "metadata": {},
   "outputs": [],
   "source": [
    "urlSet = set()\n",
    "for u in df['url'].values:\n",
    "    urlSet.add(u)\n",
    "\n",
    "url2Idx = {}\n",
    "for url in urlSet:\n",
    "    url2Idx[url] = len(url2Idx)"
   ]
  },
  {
   "cell_type": "code",
   "execution_count": 4,
   "metadata": {
    "scrolled": true
   },
   "outputs": [
    {
     "data": {
      "text/plain": [
       "{'http://checkyourfact.com/2018/07/09/fact-check-nfl-ratings-20-percent/': 8,\n",
       " 'http://www.politifact.com/personalities/sean-hannity/': 6,\n",
       " 'https://africacheck.org/reports/eskom-and-the-viral-infographic-do-the-numbers-add-up/': 4,\n",
       " 'https://fullfact.org/europe/uk-one-biggest-contributors-eu-budget/?utm_source=homepage&utm_medium=main_story': 3,\n",
       " 'https://hoax-alert.leadstories.com/3469573-fake-news-florida-babysitter-tied-crying-one-month-old-baby-to-ceiling-fan-for-26-hours.html': 10,\n",
       " 'https://pesacheck.org/have-58-of-ugandas-roads-been-built-using-only-government-money-e2156f2aa41a': 9,\n",
       " 'https://theconversation.com/factcheck-is-australias-population-the-highest-growing-in-the-world-96523': 7,\n",
       " 'https://theferret.scot/scotland-oil-abu-dhabi-dubai/': 5,\n",
       " 'https://www.factcheck.org/2018/07/trumps-false-claims-at-nato/': 1,\n",
       " 'https://www.snopes.com/fact-check/hillary-clinton-smash-phone-hammer/': 2,\n",
       " 'https://www.washingtonpost.com/news/fact-checker/wp/2018/07/18/phil-bredesens-claim-that-tennessees-meth-problem-was-cut-in-half/?utm_term=.f3688d506f6c': 0}"
      ]
     },
     "execution_count": 4,
     "metadata": {},
     "output_type": "execute_result"
    }
   ],
   "source": [
    "url2Idx"
   ]
  },
  {
   "cell_type": "markdown",
   "metadata": {},
   "source": [
    "### Create a mapping for the labels"
   ]
  },
  {
   "cell_type": "code",
   "execution_count": 5,
   "metadata": {},
   "outputs": [],
   "source": [
    "labelSet = set()\n",
    "for l in df['label'].values:\n",
    "    labelSet.add(l)\n",
    "\n",
    "label2Idx = {}\n",
    "for label in labelSet:\n",
    "    label2Idx[label] = len(label2Idx)\n",
    "labelEmbeddings = np.identity(len(label2Idx), dtype='float32')"
   ]
  },
  {
   "cell_type": "code",
   "execution_count": 6,
   "metadata": {},
   "outputs": [
    {
     "data": {
      "text/plain": [
       "{'Body': 4,\n",
       " 'Claim': 0,\n",
       " 'Credibility': 3,\n",
       " 'Date': 2,\n",
       " 'None': 6,\n",
       " 'Sources': 1,\n",
       " 'Title': 5}"
      ]
     },
     "execution_count": 6,
     "metadata": {},
     "output_type": "execute_result"
    }
   ],
   "source": [
    "label2Idx"
   ]
  },
  {
   "cell_type": "markdown",
   "metadata": {},
   "source": [
    "### Create a mapping for the tags"
   ]
  },
  {
   "cell_type": "code",
   "execution_count": 7,
   "metadata": {},
   "outputs": [],
   "source": [
    "tagSet = set()\n",
    "for t in df['tag'].values:\n",
    "    tagSet.add(t)\n",
    "\n",
    "tag2Idx = {}\n",
    "for tag in tagSet:\n",
    "    tag2Idx[tag] = len(tag2Idx)\n",
    "tagEmbeddings = np.identity(len(tag2Idx), dtype='float32')"
   ]
  },
  {
   "cell_type": "code",
   "execution_count": 8,
   "metadata": {},
   "outputs": [
    {
     "data": {
      "text/plain": [
       "{'[document]': 55,\n",
       " 'a': 48,\n",
       " 'abbr': 1,\n",
       " 'address': 25,\n",
       " 'article': 34,\n",
       " 'aside': 12,\n",
       " 'author': 65,\n",
       " 'b': 64,\n",
       " 'base': 61,\n",
       " 'blockquote': 63,\n",
       " 'body': 37,\n",
       " 'br': 68,\n",
       " 'button': 66,\n",
       " 'canvas': 20,\n",
       " 'center': 9,\n",
       " 'cite': 59,\n",
       " 'detail': 6,\n",
       " 'div': 52,\n",
       " 'em': 40,\n",
       " 'fieldset': 17,\n",
       " 'figcaption': 39,\n",
       " 'figure': 8,\n",
       " 'footer': 24,\n",
       " 'form': 69,\n",
       " 'g': 49,\n",
       " 'h1': 19,\n",
       " 'h2': 41,\n",
       " 'h3': 56,\n",
       " 'h4': 26,\n",
       " 'h5': 33,\n",
       " 'h6': 31,\n",
       " 'head': 11,\n",
       " 'header': 51,\n",
       " 'hr': 16,\n",
       " 'html': 58,\n",
       " 'i': 43,\n",
       " 'iframe': 23,\n",
       " 'img': 15,\n",
       " 'input': 62,\n",
       " 'ins': 10,\n",
       " 'label': 27,\n",
       " 'legend': 29,\n",
       " 'li': 38,\n",
       " 'link': 47,\n",
       " 'main': 35,\n",
       " 'meta': 32,\n",
       " 'nav': 22,\n",
       " 'noscript': 14,\n",
       " 'ol': 54,\n",
       " 'option': 60,\n",
       " 'p': 67,\n",
       " 'path': 42,\n",
       " 'photo': 13,\n",
       " 'section': 2,\n",
       " 'select': 70,\n",
       " 'sidebar': 30,\n",
       " 'small': 71,\n",
       " 'snippet': 3,\n",
       " 'span': 5,\n",
       " 'strong': 18,\n",
       " 'style': 4,\n",
       " 'sup': 44,\n",
       " 'svg': 28,\n",
       " 'symbol': 36,\n",
       " 'text': 21,\n",
       " 'textarea': 53,\n",
       " 'time': 50,\n",
       " 'title': 45,\n",
       " 'u': 0,\n",
       " 'ul': 46,\n",
       " 'use': 7,\n",
       " 'wp-ad': 57}"
      ]
     },
     "execution_count": 8,
     "metadata": {},
     "output_type": "execute_result"
    }
   ],
   "source": [
    "tag2Idx"
   ]
  },
  {
   "cell_type": "markdown",
   "metadata": {},
   "source": [
    "##### ToDo - Improve level feature representation"
   ]
  },
  {
   "cell_type": "code",
   "execution_count": 9,
   "metadata": {},
   "outputs": [],
   "source": [
    "levelEmbeddings = np.identity(max(df['level'].values), dtype='float32')"
   ]
  },
  {
   "cell_type": "markdown",
   "metadata": {},
   "source": [
    "### Data to features"
   ]
  },
  {
   "cell_type": "code",
   "execution_count": 10,
   "metadata": {},
   "outputs": [],
   "source": [
    "columns = ['url', 'label', 'tag', 'level']  # 0 url  1 label\n",
    "\n",
    "features = {'tags': [], 'levels': [], 'labels': [], 'groups': []}"
   ]
  },
  {
   "cell_type": "code",
   "execution_count": 11,
   "metadata": {},
   "outputs": [],
   "source": [
    "for data in df[columns].values:\n",
    "    features['groups'].append(url2Idx[data[0]])\n",
    "    features['labels'].append(labelEmbeddings[label2Idx[data[1]]])\n",
    "    features['tags'].append(tagEmbeddings[tag2Idx[data[2]]])\n",
    "    features['levels'].append(levelEmbeddings[data[3]-1])\n",
    "features['tags'] = np.array(features['tags'])\n",
    "features['levels'] = np.array(features['levels'])\n",
    "features['labels'] = np.array(features['labels'])\n",
    "features['groups'] = np.array(features['groups'])"
   ]
  },
  {
   "cell_type": "markdown",
   "metadata": {},
   "source": [
    "### Util - Plot confusion matrix"
   ]
  },
  {
   "cell_type": "code",
   "execution_count": 12,
   "metadata": {},
   "outputs": [],
   "source": [
    "import matplotlib.pyplot as plt\n",
    "import itertools\n",
    "\n",
    "\n",
    "def plot_confusion_matrix(cm, classes,\n",
    "                          normalize=True,\n",
    "                          title='Confusion matrix',\n",
    "                          cmap=plt.cm.Blues):\n",
    "    \"\"\"\n",
    "    This function prints and plots the confusion matrix.\n",
    "    Normalization can be applied by setting `normalize=True`.\n",
    "    \"\"\"\n",
    "    if normalize:\n",
    "        cm = cm.astype('float') / cm.sum(axis=1)[:, np.newaxis]\n",
    "\n",
    "    plt.imshow(cm, interpolation='nearest', cmap=cmap)\n",
    "    plt.title(title)\n",
    "    plt.colorbar()\n",
    "    tick_marks = np.arange(len(classes))\n",
    "    plt.xticks(tick_marks, classes, rotation=45)\n",
    "    plt.yticks(tick_marks, classes)\n",
    "\n",
    "    fmt = '.2f' if normalize else 'd'\n",
    "    thresh = cm.max() / 2.\n",
    "    for i, j in itertools.product(range(cm.shape[0]), range(cm.shape[1])):\n",
    "        plt.text(j, i, format(cm[i, j], fmt),\n",
    "                 horizontalalignment=\"center\",\n",
    "                 color=\"white\" if cm[i, j] > thresh else \"black\")\n",
    "\n",
    "    plt.tight_layout()\n",
    "    plt.ylabel('True label')\n",
    "    plt.xlabel('Predicted label')"
   ]
  },
  {
   "cell_type": "markdown",
   "metadata": {},
   "source": [
    "### Dense Model"
   ]
  },
  {
   "cell_type": "code",
   "execution_count": 13,
   "metadata": {
    "scrolled": true
   },
   "outputs": [],
   "source": [
    "from keras.models import Model\n",
    "from keras.layers import TimeDistributed,Conv1D,Dense,Embedding,Input,Dropout,LSTM,Bidirectional,MaxPooling1D,Flatten,concatenate\n",
    "\n",
    "\n",
    "def dense_model():\n",
    "    tag_input = Input(shape=(tagEmbeddings.shape[0],))\n",
    "    tag_ = Dense(32, activation='relu')(tag_input)\n",
    "    tag_ = Dense(16, activation='relu')(tag_)\n",
    "\n",
    "    level_input = Input(shape=(levelEmbeddings.shape[0],))\n",
    "    level_ = Dense(32, activation='relu')(level_input)\n",
    "    level_ = Dense(16, activation='relu')(level_)\n",
    "\n",
    "    output = concatenate([tag_, level_])\n",
    "    output = Dense(32, activation='relu')(output)\n",
    "    output = Dense(16, activation='relu')(output)\n",
    "    output = Dense(len(label2Idx), activation='softmax')(output)\n",
    "\n",
    "    model = Model(inputs=[tag_input, level_input], outputs=[output])\n",
    "    model.compile(optimizer='rmsprop',\n",
    "                  loss='categorical_crossentropy',\n",
    "                  metrics=['accuracy'])\n",
    "    return model"
   ]
  },
  {
   "cell_type": "markdown",
   "metadata": {},
   "source": [
    "#### Cross Validation - Dense Model"
   ]
  },
  {
   "cell_type": "code",
   "execution_count": 34,
   "metadata": {
    "scrolled": true
   },
   "outputs": [
    {
     "name": "stdout",
     "output_type": "stream",
     "text": [
      "Train Groups (URLs) {0, 1, 2, 3, 5, 6, 7, 8, 9, 10}\n",
      "Test Groups (URLs) {4}\n",
      "Acc: 90.99 %\n",
      "Precision: 25.60 %\n",
      "Recall: 24.21 %\n",
      "F1: 24.89 %\n",
      "\n",
      "Train Groups (URLs) {0, 1, 2, 3, 4, 5, 6, 8, 9, 10}\n",
      "Test Groups (URLs) {7}\n",
      "Acc: 90.33 %\n",
      "Precision: 28.28 %\n",
      "Recall: 27.43 %\n",
      "F1: 27.85 %\n",
      "\n",
      "Train Groups (URLs) {0, 1, 2, 3, 4, 5, 7, 8, 9, 10}\n",
      "Test Groups (URLs) {6}\n",
      "Acc: 96.19 %\n",
      "Precision: 14.24 %\n",
      "Recall: 13.78 %\n",
      "F1: 14.01 %\n",
      "\n",
      "Train Groups (URLs) {0, 2, 3, 4, 5, 6, 7, 8, 9, 10}\n",
      "Test Groups (URLs) {1}\n",
      "Acc: 84.45 %\n",
      "Precision: 13.98 %\n",
      "Recall: 12.29 %\n",
      "F1: 13.08 %\n",
      "\n",
      "Train Groups (URLs) {0, 1, 3, 4, 5, 6, 7, 8, 9, 10}\n",
      "Test Groups (URLs) {2}\n",
      "Acc: 95.92 %\n",
      "Precision: 24.52 %\n",
      "Recall: 21.11 %\n",
      "F1: 22.50 %\n",
      "\n",
      "Train Groups (URLs) {0, 1, 2, 3, 4, 5, 6, 7, 9}\n",
      "Test Groups (URLs) {8, 10}\n",
      "Acc: 89.11 %\n",
      "Precision: 18.17 %\n",
      "Recall: 20.02 %\n",
      "F1: 18.63 %\n",
      "\n",
      "Train Groups (URLs) {0, 1, 2, 4, 6, 7, 8, 9, 10}\n",
      "Test Groups (URLs) {3, 5}\n",
      "Acc: 88.72 %\n",
      "Precision: 25.67 %\n",
      "Recall: 19.54 %\n",
      "F1: 21.62 %\n",
      "\n",
      "Train Groups (URLs) {1, 2, 3, 4, 5, 6, 7, 8, 10}\n",
      "Test Groups (URLs) {0, 9}\n",
      "Acc: 94.04 %\n",
      "Precision: 22.07 %\n",
      "Recall: 24.24 %\n",
      "F1: 22.94 %\n",
      "\n",
      "Acc 91.22 % (+/- 3.74 %)\n",
      "Precision 21.57 % (+/- 5.12 %)\n",
      "Recall 20.33 % (+/- 4.87 %)\n",
      "F1 20.69 % (+/- 4.81 %)\n"
     ]
    }
   ],
   "source": [
    "from sklearn.model_selection import GroupKFold\n",
    "from keras.wrappers.scikit_learn import KerasClassifier\n",
    "from sklearn.metrics import accuracy_score, f1_score, precision_score, recall_score, confusion_matrix\n",
    "\n",
    "\n",
    "accuracy = []\n",
    "precision = []\n",
    "recall = []\n",
    "f1 = []\n",
    "confusion = []\n",
    "\n",
    "gp = GroupKFold(n_splits=8)\n",
    "for train_indexs, test_indexs in gp.split(features['tags'], groups=features['groups']):\n",
    "    \n",
    "    tags_train = features['tags'][train_indexs]\n",
    "    levels_train = features['levels'][train_indexs]\n",
    "    X_train = [tags_train, levels_train]\n",
    "    y_train = features['labels'][train_indexs]\n",
    "    \n",
    "    tags_test = features['tags'][test_indexs]\n",
    "    levels_test = features['levels'][test_indexs]\n",
    "    X_test = [tags_test, levels_test]\n",
    "    y_test = features['labels'][test_indexs]\n",
    "\n",
    "    groups_train = features['groups'][train_indexs]\n",
    "    groups_test = features['groups'][test_indexs]\n",
    "    train_g = set()\n",
    "    test_g = set()\n",
    "    for g in groups_train:\n",
    "        train_g.add(g)\n",
    "    for g in groups_test:\n",
    "        test_g.add(g)\n",
    "    print('Train Groups (URLs)', train_g)\n",
    "    print('Test Groups (URLs)', test_g)\n",
    "    \n",
    "    model = KerasClassifier(build_fn=dense_model)\n",
    "    model.fit(X_train, y_train, epochs=5, verbose=0)\n",
    "\n",
    "    result = model.predict(X_test)\n",
    "    y_test = [r.tolist().index(1) for r in y_test]\n",
    "    acc = accuracy_score(result, y_test)\n",
    "    accuracy.append(acc)\n",
    "    p = precision_score(result, y_test, average=\"macro\")\n",
    "    precision.append(p)\n",
    "    r = recall_score(result, y_test, average=\"macro\")\n",
    "    recall.append(r)\n",
    "    f = f1_score(result, y_test, average=\"macro\")\n",
    "    f1.append(f)\n",
    "    confusion.append(confusion_matrix(result, y_test))\n",
    "    \n",
    "    print(\"%s: %.2f %%\" % ('Acc', acc*100))\n",
    "    print(\"%s: %.2f %%\" % ('Precision', p*100))\n",
    "    print(\"%s: %.2f %%\" % ('Recall', r*100))\n",
    "    print(\"%s: %.2f %%\" % ('F1', f*100))\n",
    "    print('')\n",
    "\n",
    "print(\"Acc %.2f %% (+/- %.2f %%)\" % (np.mean(accuracy)*100, np.std(accuracy)*100))\n",
    "print(\"Precision %.2f %% (+/- %.2f %%)\" % (np.mean(precision)*100, np.std(precision)*100))\n",
    "print(\"Recall %.2f %% (+/- %.2f %%)\" % (np.mean(recall)*100, np.std(recall)*100))\n",
    "print(\"F1 %.2f %% (+/- %.2f %%)\" % (np.mean(f1)*100, np.std(f1)*100))"
   ]
  },
  {
   "cell_type": "markdown",
   "metadata": {},
   "source": [
    "###### Dense - Confusion Matrix plot"
   ]
  },
  {
   "cell_type": "code",
   "execution_count": 35,
   "metadata": {},
   "outputs": [
    {
     "data": {
      "image/png": "[encoded data removed]",
      "text/plain": [
       "<matplotlib.figure.Figure at 0x2c1b76a6518>"
      ]
     },
     "metadata": {},
     "output_type": "display_data"
    }
   ],
   "source": [
    "nc = []\n",
    "for c in confusion:\n",
    "    d = len(label2Idx) - len(c)\n",
    "    c = np.pad(c, (0,d), 'constant')\n",
    "    nc.append(c)\n",
    "confusion = nc\n",
    "cm = np.mean(confusion, axis=0)\n",
    "plot_confusion_matrix(cm, label2Idx.keys(), normalize=True)"
   ]
  },
  {
   "cell_type": "markdown",
   "metadata": {},
   "source": [
    "### LSTM model"
   ]
  },
  {
   "cell_type": "code",
   "execution_count": 61,
   "metadata": {},
   "outputs": [],
   "source": [
    "from keras.models import Model, Sequential\n",
    "from keras.layers import TimeDistributed,Conv1D,Dense,Embedding,Input,Dropout,LSTM,Bidirectional,MaxPooling1D,Flatten,concatenate,Concatenate\n",
    "\n",
    "\n",
    "def lstm_model_working():\n",
    "    input_tags = Input(shape=(None, tagEmbeddings.shape[0]))\n",
    "    lstm_tags = LSTM(150)(input_tags)\n",
    "    output = Dense(len(label2Idx))(lstm_tags)\n",
    "    model = Model(inputs=[input_tags], outputs=[output])\n",
    "    model.compile(loss='categorical_crossentropy', optimizer='rmsprop')\n",
    "    #model.summary()\n",
    "    return model\n",
    "\n",
    "def lstm_model():\n",
    "    input_tags = Input(shape=(None, tagEmbeddings.shape[0]))\n",
    "    lstm_tags = LSTM(150)(input_tags)\n",
    "    \n",
    "    input_levels = Input(shape=(None, levelEmbeddings.shape[0]))\n",
    "    lstm_levels = LSTM(150)(input_levels)\n",
    "    \n",
    "    output = concatenate([lstm_tags, lstm_levels])\n",
    "    output = Dense(len(label2Idx))(output)\n",
    "    model = Model(inputs=[input_tags, input_levels], outputs=[output])\n",
    "    model.compile(loss='categorical_crossentropy', optimizer='rmsprop')\n",
    "    #model.summary()\n",
    "    return model"
   ]
  },
  {
   "cell_type": "markdown",
   "metadata": {},
   "source": [
    "#### Cross Validation - LSTM Model"
   ]
  },
  {
   "cell_type": "code",
   "execution_count": 66,
   "metadata": {
    "scrolled": true
   },
   "outputs": [
    {
     "name": "stdout",
     "output_type": "stream",
     "text": [
      "Train Groups (URLs) {0, 1, 2, 3, 5, 6, 7, 8, 9, 10}\n",
      "Test Groups (URLs) {4}\n",
      "Acc: 75.57 %\n",
      "Precision: 12.52 %\n",
      "Recall: 12.17 %\n",
      "F1: 12.34 %\n",
      "\n",
      "Train Groups (URLs) {0, 1, 2, 3, 4, 5, 6, 8, 9, 10}\n",
      "Test Groups (URLs) {7}\n",
      "Acc: 0.40 %\n",
      "Precision: 1.53 %\n",
      "Recall: 0.34 %\n",
      "F1: 0.56 %\n",
      "\n",
      "Train Groups (URLs) {0, 1, 2, 3, 4, 5, 7, 8, 9, 10}\n",
      "Test Groups (URLs) {6}\n",
      "Acc: 96.48 %\n",
      "Precision: 14.29 %\n",
      "Recall: 13.78 %\n",
      "F1: 14.03 %\n",
      "\n",
      "Train Groups (URLs) {0, 2, 3, 4, 5, 6, 7, 8, 9, 10}\n",
      "Test Groups (URLs) {1}\n",
      "Acc: 86.29 %\n",
      "Precision: 14.29 %\n",
      "Recall: 12.33 %\n",
      "F1: 13.23 %\n",
      "\n",
      "Train Groups (URLs) {0, 1, 3, 4, 5, 6, 7, 8, 9, 10}\n",
      "Test Groups (URLs) {2}\n",
      "Acc: 56.56 %\n",
      "Precision: 33.72 %\n",
      "Recall: 15.99 %\n",
      "F1: 13.79 %\n",
      "\n",
      "Train Groups (URLs) {0, 1, 2, 3, 4, 5, 6, 7, 9}\n",
      "Test Groups (URLs) {8, 10}\n",
      "Acc: 88.68 %\n",
      "Precision: 14.29 %\n",
      "Recall: 12.67 %\n",
      "F1: 13.43 %\n",
      "\n",
      "Train Groups (URLs) {0, 1, 2, 4, 6, 7, 8, 9, 10}\n",
      "Test Groups (URLs) {3, 5}\n",
      "Acc: 34.32 %\n",
      "Precision: 33.36 %\n",
      "Recall: 15.19 %\n",
      "F1: 12.49 %\n",
      "\n",
      "Train Groups (URLs) {1, 2, 3, 4, 5, 6, 7, 8, 10}\n",
      "Test Groups (URLs) {0, 9}\n",
      "Acc: 87.06 %\n",
      "Precision: 18.21 %\n",
      "Recall: 13.74 %\n",
      "F1: 13.88 %\n",
      "\n",
      "Acc 65.67 % (+/- 31.20 %)\n",
      "Precision 17.77 % (+/- 10.16 %)\n",
      "Recall 12.03 % (+/- 4.59 %)\n",
      "F1 11.72 % (+/- 4.26 %)\n"
     ]
    }
   ],
   "source": [
    "from sklearn.model_selection import GroupKFold\n",
    "from keras.wrappers.scikit_learn import KerasClassifier\n",
    "from sklearn.metrics import accuracy_score, f1_score, precision_score, recall_score, confusion_matrix\n",
    "\n",
    "\n",
    "accuracy = []\n",
    "precision = []\n",
    "recall = []\n",
    "f1 = []\n",
    "confusion = []\n",
    "\n",
    "gp = GroupKFold(n_splits=8)\n",
    "for train_indexs, test_indexs in gp.split(features['tags'], groups=features['groups']):\n",
    "    \n",
    "    tags_train = features['tags'][train_indexs]\n",
    "    tags_train = tags_train.reshape((tags_train.shape[0], 1, tags_train.shape[1])) # Test\n",
    "    levels_train = features['levels'][train_indexs]\n",
    "    levels_train = levels_train.reshape((levels_train.shape[0], 1, levels_train.shape[1])) # Test\n",
    "    X_train = [tags_train, levels_train]\n",
    "    y_train = features['labels'][train_indexs]\n",
    "    \n",
    "    tags_test = features['tags'][test_indexs]\n",
    "    tags_test = tags_test.reshape((tags_test.shape[0], 1, tags_test.shape[1])) # Test\n",
    "    levels_test = features['levels'][test_indexs]\n",
    "    levels_test = levels_test.reshape((levels_test.shape[0], 1, levels_test.shape[1])) # Test\n",
    "    X_test = [tags_test, levels_test]\n",
    "    y_test = features['labels'][test_indexs]\n",
    "\n",
    "    groups_train = features['groups'][train_indexs]\n",
    "    groups_test = features['groups'][test_indexs]\n",
    "    train_g = set()\n",
    "    test_g = set()\n",
    "    for g in groups_train:\n",
    "        train_g.add(g)\n",
    "    for g in groups_test:\n",
    "        test_g.add(g)\n",
    "    print('Train Groups (URLs)', train_g)\n",
    "    print('Test Groups (URLs)', test_g)\n",
    "    \n",
    "    #model = KerasClassifier(build_fn=lstm_model)\n",
    "    model.fit(X_train, y_train, epochs=5, verbose=0)\n",
    "    #model.fit(tags_train, y_train, epochs=5, verbose=0)\n",
    "\n",
    "    result = model.predict(X_test)\n",
    "    #result = model.predict(tags_test)\n",
    "    y_test = [r.tolist().index(1) for r in y_test]\n",
    "    acc = accuracy_score(result, y_test)\n",
    "    accuracy.append(acc)\n",
    "    p = precision_score(result, y_test, average=\"macro\")\n",
    "    precision.append(p)\n",
    "    r = recall_score(result, y_test, average=\"macro\")\n",
    "    recall.append(r)\n",
    "    f = f1_score(result, y_test, average=\"macro\")\n",
    "    f1.append(f)\n",
    "    confusion.append(confusion_matrix(result, y_test))\n",
    "    \n",
    "    print(\"%s: %.2f %%\" % ('Acc', acc*100))\n",
    "    print(\"%s: %.2f %%\" % ('Precision', p*100))\n",
    "    print(\"%s: %.2f %%\" % ('Recall', r*100))\n",
    "    print(\"%s: %.2f %%\" % ('F1', f*100))\n",
    "    print('')\n",
    "\n",
    "print(\"Acc %.2f %% (+/- %.2f %%)\" % (np.mean(accuracy)*100, np.std(accuracy)*100))\n",
    "print(\"Precision %.2f %% (+/- %.2f %%)\" % (np.mean(precision)*100, np.std(precision)*100))\n",
    "print(\"Recall %.2f %% (+/- %.2f %%)\" % (np.mean(recall)*100, np.std(recall)*100))\n",
    "print(\"F1 %.2f %% (+/- %.2f %%)\" % (np.mean(f1)*100, np.std(f1)*100))"
   ]
  },
  {
   "cell_type": "markdown",
   "metadata": {},
   "source": [
    "###### LSTM - Confusion Matrix plot"
   ]
  },
  {
   "cell_type": "code",
   "execution_count": 67,
   "metadata": {
    "scrolled": true
   },
   "outputs": [
    {
     "data": {
      "image/png": "[encoded data removed]",
      "text/plain": [
       "<matplotlib.figure.Figure at 0x2c1e66872e8>"
      ]
     },
     "metadata": {},
     "output_type": "display_data"
    }
   ],
   "source": [
    "nc = []\n",
    "for c in confusion:\n",
    "    d = len(label2Idx) - len(c)\n",
    "    c = np.pad(c, (0,d), 'constant')\n",
    "    nc.append(c)\n",
    "confusion = nc\n",
    "cm = np.mean(confusion, axis=0)\n",
    "plot_confusion_matrix(cm, label2Idx.keys(), normalize=True)"
   ]
  }
 ],
 "metadata": {
  "kernelspec": {
   "display_name": "Python 3",
   "language": "python",
   "name": "python3"
  },
  "language_info": {
   "codemirror_mode": {
    "name": "ipython",
    "version": 3
   },
   "file_extension": ".py",
   "mimetype": "text/x-python",
   "name": "python",
   "nbconvert_exporter": "python",
   "pygments_lexer": "ipython3",
   "version": "3.6.4"
  }
 },
 "nbformat": 4,
 "nbformat_minor": 2
}
