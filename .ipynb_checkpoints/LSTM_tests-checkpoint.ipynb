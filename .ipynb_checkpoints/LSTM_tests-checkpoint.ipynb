{
 "cells": [
  {
   "cell_type": "code",
   "execution_count": 1,
   "metadata": {},
   "outputs": [],
   "source": [
    "import warnings\n",
    "warnings.filterwarnings(\"ignore\")"
   ]
  },
  {
   "cell_type": "markdown",
   "metadata": {},
   "source": [
    "### Load data"
   ]
  },
  {
   "cell_type": "code",
   "execution_count": 2,
   "metadata": {},
   "outputs": [],
   "source": [
    "import pandas as pd\n",
    "import numpy as np\n",
    "\n",
    "\n",
    "data_path = 'features_annotated.csv'\n",
    "df = pd.read_csv(data_path)"
   ]
  },
  {
   "cell_type": "markdown",
   "metadata": {},
   "source": [
    "### Create a mapping for the URLs"
   ]
  },
  {
   "cell_type": "code",
   "execution_count": 3,
   "metadata": {},
   "outputs": [],
   "source": [
    "urlSet = set()\n",
    "for u in df['url'].values:\n",
    "    urlSet.add(u)\n",
    "\n",
    "url2Idx = {}\n",
    "for url in urlSet:\n",
    "    url2Idx[url] = len(url2Idx)"
   ]
  },
  {
   "cell_type": "code",
   "execution_count": 4,
   "metadata": {
    "scrolled": true
   },
   "outputs": [
    {
     "data": {
      "text/plain": [
       "{'http://checkyourfact.com/2018/07/09/fact-check-nfl-ratings-20-percent/': 8,\n",
       " 'http://www.politifact.com/personalities/sean-hannity/': 6,\n",
       " 'https://africacheck.org/reports/eskom-and-the-viral-infographic-do-the-numbers-add-up/': 4,\n",
       " 'https://fullfact.org/europe/uk-one-biggest-contributors-eu-budget/?utm_source=homepage&utm_medium=main_story': 3,\n",
       " 'https://hoax-alert.leadstories.com/3469573-fake-news-florida-babysitter-tied-crying-one-month-old-baby-to-ceiling-fan-for-26-hours.html': 10,\n",
       " 'https://pesacheck.org/have-58-of-ugandas-roads-been-built-using-only-government-money-e2156f2aa41a': 9,\n",
       " 'https://theconversation.com/factcheck-is-australias-population-the-highest-growing-in-the-world-96523': 7,\n",
       " 'https://theferret.scot/scotland-oil-abu-dhabi-dubai/': 5,\n",
       " 'https://www.factcheck.org/2018/07/trumps-false-claims-at-nato/': 1,\n",
       " 'https://www.snopes.com/fact-check/hillary-clinton-smash-phone-hammer/': 2,\n",
       " 'https://www.washingtonpost.com/news/fact-checker/wp/2018/07/18/phil-bredesens-claim-that-tennessees-meth-problem-was-cut-in-half/?utm_term=.f3688d506f6c': 0}"
      ]
     },
     "execution_count": 4,
     "metadata": {},
     "output_type": "execute_result"
    }
   ],
   "source": [
    "url2Idx"
   ]
  },
  {
   "cell_type": "markdown",
   "metadata": {},
   "source": [
    "### Create a mapping for the labels"
   ]
  },
  {
   "cell_type": "code",
   "execution_count": 5,
   "metadata": {},
   "outputs": [],
   "source": [
    "labelSet = set()\n",
    "for l in df['label'].values:\n",
    "    labelSet.add(l)\n",
    "\n",
    "label2Idx = {}\n",
    "for label in labelSet:\n",
    "    label2Idx[label] = len(label2Idx)\n",
    "labelEmbeddings = np.identity(len(label2Idx), dtype='float32')"
   ]
  },
  {
   "cell_type": "code",
   "execution_count": 6,
   "metadata": {},
   "outputs": [
    {
     "data": {
      "text/plain": [
       "{'Body': 4,\n",
       " 'Claim': 0,\n",
       " 'Credibility': 3,\n",
       " 'Date': 2,\n",
       " 'None': 6,\n",
       " 'Sources': 1,\n",
       " 'Title': 5}"
      ]
     },
     "execution_count": 6,
     "metadata": {},
     "output_type": "execute_result"
    }
   ],
   "source": [
    "label2Idx"
   ]
  },
  {
   "cell_type": "markdown",
   "metadata": {},
   "source": [
    "### Create a mapping for the tags"
   ]
  },
  {
   "cell_type": "code",
   "execution_count": 7,
   "metadata": {},
   "outputs": [],
   "source": [
    "tagSet = set()\n",
    "for t in df['tag'].values:\n",
    "    tagSet.add(t)\n",
    "\n",
    "tag2Idx = {}\n",
    "for tag in tagSet:\n",
    "    tag2Idx[tag] = len(tag2Idx)\n",
    "tagEmbeddings = np.identity(len(tag2Idx), dtype='float32')"
   ]
  },
  {
   "cell_type": "code",
   "execution_count": 8,
   "metadata": {},
   "outputs": [
    {
     "data": {
      "text/plain": [
       "{'[document]': 55,\n",
       " 'a': 48,\n",
       " 'abbr': 1,\n",
       " 'address': 25,\n",
       " 'article': 34,\n",
       " 'aside': 12,\n",
       " 'author': 65,\n",
       " 'b': 64,\n",
       " 'base': 61,\n",
       " 'blockquote': 63,\n",
       " 'body': 37,\n",
       " 'br': 68,\n",
       " 'button': 66,\n",
       " 'canvas': 20,\n",
       " 'center': 9,\n",
       " 'cite': 59,\n",
       " 'detail': 6,\n",
       " 'div': 52,\n",
       " 'em': 40,\n",
       " 'fieldset': 17,\n",
       " 'figcaption': 39,\n",
       " 'figure': 8,\n",
       " 'footer': 24,\n",
       " 'form': 69,\n",
       " 'g': 49,\n",
       " 'h1': 19,\n",
       " 'h2': 41,\n",
       " 'h3': 56,\n",
       " 'h4': 26,\n",
       " 'h5': 33,\n",
       " 'h6': 31,\n",
       " 'head': 11,\n",
       " 'header': 51,\n",
       " 'hr': 16,\n",
       " 'html': 58,\n",
       " 'i': 43,\n",
       " 'iframe': 23,\n",
       " 'img': 15,\n",
       " 'input': 62,\n",
       " 'ins': 10,\n",
       " 'label': 27,\n",
       " 'legend': 29,\n",
       " 'li': 38,\n",
       " 'link': 47,\n",
       " 'main': 35,\n",
       " 'meta': 32,\n",
       " 'nav': 22,\n",
       " 'noscript': 14,\n",
       " 'ol': 54,\n",
       " 'option': 60,\n",
       " 'p': 67,\n",
       " 'path': 42,\n",
       " 'photo': 13,\n",
       " 'section': 2,\n",
       " 'select': 70,\n",
       " 'sidebar': 30,\n",
       " 'small': 71,\n",
       " 'snippet': 3,\n",
       " 'span': 5,\n",
       " 'strong': 18,\n",
       " 'style': 4,\n",
       " 'sup': 44,\n",
       " 'svg': 28,\n",
       " 'symbol': 36,\n",
       " 'text': 21,\n",
       " 'textarea': 53,\n",
       " 'time': 50,\n",
       " 'title': 45,\n",
       " 'u': 0,\n",
       " 'ul': 46,\n",
       " 'use': 7,\n",
       " 'wp-ad': 57}"
      ]
     },
     "execution_count": 8,
     "metadata": {},
     "output_type": "execute_result"
    }
   ],
   "source": [
    "tag2Idx"
   ]
  },
  {
   "cell_type": "markdown",
   "metadata": {},
   "source": [
    "##### ToDo - Improve level feature representation"
   ]
  },
  {
   "cell_type": "code",
   "execution_count": 9,
   "metadata": {},
   "outputs": [],
   "source": [
    "levelEmbeddings = np.identity(max(df['level'].values), dtype='float32')"
   ]
  },
  {
   "cell_type": "markdown",
   "metadata": {},
   "source": [
    "### Data to features"
   ]
  },
  {
   "cell_type": "code",
   "execution_count": 10,
   "metadata": {},
   "outputs": [],
   "source": [
    "columns = ['url', 'label', 'tag', 'level']  # 0 url  1 label\n",
    "\n",
    "features = {'tags': [], 'levels': [], 'labels': [], 'groups': []}"
   ]
  },
  {
   "cell_type": "code",
   "execution_count": 11,
   "metadata": {},
   "outputs": [],
   "source": [
    "for data in df[columns].values:\n",
    "    features['groups'].append(url2Idx[data[0]])\n",
    "    features['labels'].append(labelEmbeddings[label2Idx[data[1]]])\n",
    "    features['tags'].append(tagEmbeddings[tag2Idx[data[2]]])\n",
    "    features['levels'].append(levelEmbeddings[data[3]-1])\n",
    "features['tags'] = np.array(features['tags'])\n",
    "features['levels'] = np.array(features['levels'])\n",
    "features['labels'] = np.array(features['labels'])\n",
    "features['groups'] = np.array(features['groups'])"
   ]
  },
  {
   "cell_type": "markdown",
   "metadata": {},
   "source": [
    "### Util - Plot confusion matrix"
   ]
  },
  {
   "cell_type": "code",
   "execution_count": 12,
   "metadata": {},
   "outputs": [],
   "source": [
    "import matplotlib.pyplot as plt\n",
    "import itertools\n",
    "\n",
    "\n",
    "def plot_confusion_matrix(cm, classes,\n",
    "                          normalize=True,\n",
    "                          title='Confusion matrix',\n",
    "                          cmap=plt.cm.Blues):\n",
    "    \"\"\"\n",
    "    This function prints and plots the confusion matrix.\n",
    "    Normalization can be applied by setting `normalize=True`.\n",
    "    \"\"\"\n",
    "    if normalize:\n",
    "        cm = cm.astype('float') / cm.sum(axis=1)[:, np.newaxis]\n",
    "\n",
    "    plt.imshow(cm, interpolation='nearest', cmap=cmap)\n",
    "    plt.title(title)\n",
    "    plt.colorbar()\n",
    "    tick_marks = np.arange(len(classes))\n",
    "    plt.xticks(tick_marks, classes, rotation=45)\n",
    "    plt.yticks(tick_marks, classes)\n",
    "\n",
    "    fmt = '.2f' if normalize else 'd'\n",
    "    thresh = cm.max() / 2.\n",
    "    for i, j in itertools.product(range(cm.shape[0]), range(cm.shape[1])):\n",
    "        plt.text(j, i, format(cm[i, j], fmt),\n",
    "                 horizontalalignment=\"center\",\n",
    "                 color=\"white\" if cm[i, j] > thresh else \"black\")\n",
    "\n",
    "    plt.tight_layout()\n",
    "    plt.ylabel('True label')\n",
    "    plt.xlabel('Predicted label')"
   ]
  },
  {
   "cell_type": "markdown",
   "metadata": {},
   "source": [
    "### Dense Model"
   ]
  },
  {
   "cell_type": "code",
   "execution_count": 13,
   "metadata": {
    "scrolled": true
   },
   "outputs": [],
   "source": [
    "from keras.models import Model\n",
    "from keras.layers import TimeDistributed,Conv1D,Dense,Embedding,Input,Dropout,LSTM,Bidirectional,MaxPooling1D,Flatten,concatenate\n",
    "\n",
    "\n",
    "def dense_model():\n",
    "    tag_input = Input(shape=(tagEmbeddings.shape[0],))\n",
    "    tag_ = Dense(32, activation='relu')(tag_input)\n",
    "    tag_ = Dense(16, activation='relu')(tag_)\n",
    "\n",
    "    level_input = Input(shape=(levelEmbeddings.shape[0],))\n",
    "    level_ = Dense(32, activation='relu')(level_input)\n",
    "    level_ = Dense(16, activation='relu')(level_)\n",
    "\n",
    "    output = concatenate([tag_, level_])\n",
    "    output = Dense(32, activation='relu')(output)\n",
    "    output = Dense(16, activation='relu')(output)\n",
    "    output = Dense(len(label2Idx), activation='softmax')(output)\n",
    "\n",
    "    model = Model(inputs=[tag_input, level_input], outputs=[output])\n",
    "    model.compile(optimizer='rmsprop',\n",
    "                  loss='categorical_crossentropy',\n",
    "                  metrics=['accuracy'])\n",
    "    return model"
   ]
  },
  {
   "cell_type": "markdown",
   "metadata": {},
   "source": [
    "#### Cross Validation - Dense Model"
   ]
  },
  {
   "cell_type": "code",
   "execution_count": 74,
   "metadata": {
    "scrolled": true
   },
   "outputs": [
    {
     "name": "stdout",
     "output_type": "stream",
     "text": [
      "Train Groups (URLs) {0, 1, 2, 4, 5, 6, 7, 8, 9, 10}\n",
      "Test Groups (URLs) {3}\n",
      "Epoch 1/5\n",
      "5021/5021 [==============================] - 3s 536us/step - loss: 0.5798 - acc: 0.8721\n",
      "Epoch 2/5\n",
      "5021/5021 [==============================] - 1s 181us/step - loss: 0.2736 - acc: 0.9156\n",
      "Epoch 3/5\n",
      "5021/5021 [==============================] - 1s 177us/step - loss: 0.2354 - acc: 0.9269\n",
      "Epoch 4/5\n",
      "5021/5021 [==============================] - 1s 175us/step - loss: 0.2201 - acc: 0.9269\n",
      "Epoch 5/5\n",
      "5021/5021 [==============================] - 1s 176us/step - loss: 0.2143 - acc: 0.9287\n",
      "Acc: 90.84 %\n",
      "Precision: 25.57 %\n",
      "Recall: 24.02 %\n",
      "F1: 24.77 %\n",
      "\n",
      "Train Groups (URLs) {0, 1, 2, 3, 4, 5, 6, 7, 8, 10}\n",
      "Test Groups (URLs) {9}\n",
      "Epoch 1/5\n",
      "5576/5576 [==============================] - 2s 333us/step - loss: 0.5725 - acc: 0.8725\n",
      "Epoch 2/5\n",
      "5576/5576 [==============================] - 1s 191us/step - loss: 0.2740 - acc: 0.9084\n",
      "Epoch 3/5\n",
      "5576/5576 [==============================] - 1s 174us/step - loss: 0.2376 - acc: 0.9222\n",
      "Epoch 4/5\n",
      "5576/5576 [==============================] - 1s 175us/step - loss: 0.2237 - acc: 0.9243\n",
      "Epoch 5/5\n",
      "5576/5576 [==============================] - 1s 177us/step - loss: 0.2171 - acc: 0.9234\n",
      "Acc: 84.50 %\n",
      "Precision: 28.29 %\n",
      "Recall: 28.08 %\n",
      "F1: 28.12 %\n",
      "\n",
      "Train Groups (URLs) {0, 1, 2, 3, 4, 5, 6, 8, 9, 10}\n",
      "Test Groups (URLs) {7}\n",
      "Epoch 1/5\n",
      "5649/5649 [==============================] - 2s 313us/step - loss: 0.6060 - acc: 0.8524\n",
      "Epoch 2/5\n",
      "5649/5649 [==============================] - 1s 173us/step - loss: 0.2685 - acc: 0.9154\n",
      "Epoch 3/5\n",
      "5649/5649 [==============================] - 1s 180us/step - loss: 0.2424 - acc: 0.9163\n",
      "Epoch 4/5\n",
      "5649/5649 [==============================] - 1s 195us/step - loss: 0.2301 - acc: 0.9179\n",
      "Epoch 5/5\n",
      "5649/5649 [==============================] - 1s 174us/step - loss: 0.2242 - acc: 0.9180\n",
      "Acc: 96.19 %\n",
      "Precision: 14.24 %\n",
      "Recall: 13.78 %\n",
      "F1: 14.01 %\n",
      "\n",
      "Train Groups (URLs) {1, 2, 3, 4, 5, 6, 7, 8, 9, 10}\n",
      "Test Groups (URLs) {0}\n",
      "Epoch 1/5\n",
      "5733/5733 [==============================] - 2s 331us/step - loss: 0.5394 - acc: 0.8980\n",
      "Epoch 2/5\n",
      "5733/5733 [==============================] - 1s 182us/step - loss: 0.2544 - acc: 0.9239\n",
      "Epoch 3/5\n",
      "5733/5733 [==============================] - 1s 175us/step - loss: 0.2258 - acc: 0.9266\n",
      "Epoch 4/5\n",
      "5733/5733 [==============================] - 1s 178us/step - loss: 0.2131 - acc: 0.9273\n",
      "Epoch 5/5\n",
      "5733/5733 [==============================] - 1s 176us/step - loss: 0.2084 - acc: 0.9264\n",
      "Acc: 90.97 %\n",
      "Precision: 24.45 %\n",
      "Recall: 24.42 %\n",
      "F1: 24.40 %\n",
      "\n",
      "Train Groups (URLs) {0, 1, 3, 4, 5, 6, 7, 8, 9, 10}\n",
      "Test Groups (URLs) {2}\n",
      "Epoch 1/5\n",
      "5767/5767 [==============================] - 2s 323us/step - loss: 0.6436 - acc: 0.8705\n",
      "Epoch 2/5\n",
      "5767/5767 [==============================] - 1s 166us/step - loss: 0.2904 - acc: 0.9156\n",
      "Epoch 3/5\n",
      "5767/5767 [==============================] - 1s 163us/step - loss: 0.2470 - acc: 0.9201\n",
      "Epoch 4/5\n",
      "5767/5767 [==============================] - 1s 173us/step - loss: 0.2346 - acc: 0.9204\n",
      "Epoch 5/5\n",
      "5767/5767 [==============================] - 1s 178us/step - loss: 0.2287 - acc: 0.9204\n",
      "Acc: 96.45 %\n",
      "Precision: 21.83 %\n",
      "Recall: 23.40 %\n",
      "F1: 22.50 %\n",
      "\n",
      "Train Groups (URLs) {0, 1, 2, 3, 4, 6, 7, 8, 9}\n",
      "Test Groups (URLs) {10, 5}\n",
      "Epoch 1/5\n",
      "5624/5624 [==============================] - 2s 334us/step - loss: 0.6050 - acc: 0.8889\n",
      "Epoch 2/5\n",
      "5624/5624 [==============================] - 1s 181us/step - loss: 0.2740 - acc: 0.9237\n",
      "Epoch 3/5\n",
      "5624/5624 [==============================] - 1s 185us/step - loss: 0.2406 - acc: 0.9250\n",
      "Epoch 4/5\n",
      "5624/5624 [==============================] - 1s 173us/step - loss: 0.2242 - acc: 0.9253\n",
      "Epoch 5/5\n",
      "5624/5624 [==============================] - 1s 169us/step - loss: 0.2162 - acc: 0.9250\n",
      "Acc: 89.11 %\n",
      "Precision: 18.17 %\n",
      "Recall: 20.02 %\n",
      "F1: 18.63 %\n",
      "\n",
      "Train Groups (URLs) {0, 1, 2, 3, 4, 5, 7, 9, 10}\n",
      "Test Groups (URLs) {8, 6}\n",
      "Epoch 1/5\n",
      "5489/5489 [==============================] - 2s 343us/step - loss: 0.5754 - acc: 0.8861\n",
      "Epoch 2/5\n",
      "5489/5489 [==============================] - 1s 178us/step - loss: 0.2854 - acc: 0.9184\n",
      "Epoch 3/5\n",
      "5489/5489 [==============================] - 1s 168us/step - loss: 0.2483 - acc: 0.9251\n",
      "Epoch 4/5\n",
      "5489/5489 [==============================] - 1s 162us/step - loss: 0.2298 - acc: 0.9246\n",
      "Epoch 5/5\n",
      "5489/5489 [==============================] - 1s 164us/step - loss: 0.2181 - acc: 0.9249\n",
      "Acc: 90.86 %\n",
      "Precision: 25.68 %\n",
      "Recall: 21.33 %\n",
      "F1: 23.12 %\n",
      "\n",
      "Train Groups (URLs) {0, 2, 3, 5, 6, 7, 8, 9, 10}\n",
      "Test Groups (URLs) {1, 4}\n",
      "Epoch 1/5\n",
      "5458/5458 [==============================] - 2s 343us/step - loss: 0.8424 - acc: 0.8518\n",
      "Epoch 2/5\n",
      "5458/5458 [==============================] - 1s 177us/step - loss: 0.3213 - acc: 0.9025\n",
      "Epoch 3/5\n",
      "5458/5458 [==============================] - 1s 173us/step - loss: 0.2777 - acc: 0.9183\n",
      "Epoch 4/5\n",
      "5458/5458 [==============================] - 1s 173us/step - loss: 0.2467 - acc: 0.9207\n",
      "Epoch 5/5\n",
      "5458/5458 [==============================] - 1s 169us/step - loss: 0.2318 - acc: 0.9216\n",
      "Acc: 94.16 %\n",
      "Precision: 22.09 %\n",
      "Recall: 24.64 %\n",
      "F1: 23.08 %\n",
      "\n",
      "Acc 91.63 % (+/- 3.70 %)\n",
      "Precision 22.54 % (+/- 4.25 %)\n",
      "Recall 22.46 % (+/- 3.97 %)\n",
      "F1 22.33 % (+/- 4.00 %)\n"
     ]
    }
   ],
   "source": [
    "from sklearn.model_selection import GroupKFold\n",
    "from keras.wrappers.scikit_learn import KerasClassifier\n",
    "from sklearn.metrics import accuracy_score, f1_score, precision_score, recall_score, confusion_matrix\n",
    "\n",
    "\n",
    "accuracy = []\n",
    "precision = []\n",
    "recall = []\n",
    "f1 = []\n",
    "confusion = []\n",
    "\n",
    "gp = GroupKFold(n_splits=8)\n",
    "for train_indexs, test_indexs in gp.split(features['tags'], groups=features['groups']):\n",
    "    \n",
    "    tags_train = features['tags'][train_indexs]\n",
    "    levels_train = features['levels'][train_indexs]\n",
    "    X_train = [tags_train, levels_train]\n",
    "    y_train = features['labels'][train_indexs]\n",
    "    \n",
    "    tags_test = features['tags'][test_indexs]\n",
    "    levels_test = features['levels'][test_indexs]\n",
    "    X_test = [tags_test, levels_test]\n",
    "    y_test = features['labels'][test_indexs]\n",
    "\n",
    "    groups_train = features['groups'][train_indexs]\n",
    "    groups_test = features['groups'][test_indexs]\n",
    "    train_g = set()\n",
    "    test_g = set()\n",
    "    for g in groups_train:\n",
    "        train_g.add(g)\n",
    "    for g in groups_test:\n",
    "        test_g.add(g)\n",
    "    print('Train Groups (URLs)', train_g)\n",
    "    print('Test Groups (URLs)', test_g)\n",
    "    \n",
    "    model = KerasClassifier(build_fn=dense_model)\n",
    "    model.fit(X_train, y_train, epochs=5, verbose=1)\n",
    "\n",
    "    result = model.predict(X_test)\n",
    "    y_test = [r.tolist().index(1) for r in y_test]\n",
    "    acc = accuracy_score(result, y_test)\n",
    "    accuracy.append(acc)\n",
    "    p = precision_score(result, y_test, average=\"macro\")\n",
    "    precision.append(p)\n",
    "    r = recall_score(result, y_test, average=\"macro\")\n",
    "    recall.append(r)\n",
    "    f = f1_score(result, y_test, average=\"macro\")\n",
    "    f1.append(f)\n",
    "    confusion.append(confusion_matrix(result, y_test))\n",
    "    \n",
    "    print(\"%s: %.2f %%\" % ('Acc', acc*100))\n",
    "    print(\"%s: %.2f %%\" % ('Precision', p*100))\n",
    "    print(\"%s: %.2f %%\" % ('Recall', r*100))\n",
    "    print(\"%s: %.2f %%\" % ('F1', f*100))\n",
    "    print('')\n",
    "\n",
    "print(\"Acc %.2f %% (+/- %.2f %%)\" % (np.mean(accuracy)*100, np.std(accuracy)*100))\n",
    "print(\"Precision %.2f %% (+/- %.2f %%)\" % (np.mean(precision)*100, np.std(precision)*100))\n",
    "print(\"Recall %.2f %% (+/- %.2f %%)\" % (np.mean(recall)*100, np.std(recall)*100))\n",
    "print(\"F1 %.2f %% (+/- %.2f %%)\" % (np.mean(f1)*100, np.std(f1)*100))"
   ]
  },
  {
   "cell_type": "markdown",
   "metadata": {},
   "source": [
    "###### Confusion Matrix plot"
   ]
  },
  {
   "cell_type": "code",
   "execution_count": 89,
   "metadata": {},
   "outputs": [
    {
     "data": {
      "image/png": "[encoded data removed]",
      "text/plain": [
       "<matplotlib.figure.Figure at 0x23967982e48>"
      ]
     },
     "metadata": {},
     "output_type": "display_data"
    }
   ],
   "source": [
    "nc = []\n",
    "for c in confusion:\n",
    "    d = len(label2Idx) - len(c)\n",
    "    c = np.pad(c, (0,d), 'constant')\n",
    "    nc.append(c)\n",
    "confusion = nc\n",
    "cm = np.mean(confusion, axis=0)\n",
    "plot_confusion_matrix(cm, ['Body', 'Claim', 'Title', 'Date', 'Sources', 'None', 'Credibility'], normalize=True)"
   ]
  },
  {
   "cell_type": "markdown",
   "metadata": {},
   "source": [
    "### LSTM model"
   ]
  },
  {
   "cell_type": "code",
   "execution_count": 114,
   "metadata": {},
   "outputs": [],
   "source": [
    "from keras.models import Model\n",
    "from keras.layers import TimeDistributed,Conv1D,Dense,Embedding,Input,Dropout,LSTM,Bidirectional,MaxPooling1D,Flatten,concatenate\n",
    "\n",
    "\n",
    "def lstm_model():\n",
    "    tag_input = Input(shape=(None,), dtype='int32', name='tags_input')\n",
    "    tag = Embedding(output_dim=tagEmbeddings.shape[1], input_dim=tagEmbeddings.shape[0], weights=[tagEmbeddings], trainable=False)(tag_input)\n",
    "\n",
    "    level_input = Input(shape=(None,), dtype='int32', name='levels_input')\n",
    "    level = Embedding(output_dim=levelEmbeddings.shape[1], input_dim=levelEmbeddings.shape[0], weights=[levelEmbeddings], trainable=False)(level_input)\n",
    "\n",
    "    output = concatenate([tag, level])\n",
    "    output = Bidirectional(LSTM(200, return_sequences=True, dropout=0.50, recurrent_dropout=0.25))(output)\n",
    "    output = Reshape((92,))\n",
    "    output = TimeDistributed(Dense(len(label2Idx), activation='softmax'))(output)\n",
    "\n",
    "    model = Model(inputs=[tag_input, level_input], outputs=[output])\n",
    "    model.compile(loss='sparse_categorical_crossentropy', optimizer='rmsprop')\n",
    "    model.summary()\n",
    "    return model"
   ]
  },
  {
   "cell_type": "code",
   "execution_count": 113,
   "metadata": {},
   "outputs": [],
   "source": [
    "from keras.models import Model\n",
    "from keras.layers import TimeDistributed,Conv1D,Dense,Embedding,Input,Dropout,LSTM,Bidirectional,MaxPooling1D,Flatten,concatenate, Reshape\n",
    "\n",
    "\n",
    "def lstm_model():\n",
    "    tag_input = Input(shape=(tagEmbeddings.shape[0],))\n",
    "    #tag_ = LSTM(150, input_shape=(None, None, tagEmbeddings.shape[0]), return_sequences=True)\n",
    "    tag_ = Dense(32, activation='relu')(tag_input)\n",
    "    tag_ = Dense(16, activation='relu')(tag_)\n",
    "\n",
    "    level_input = Input(shape=(levelEmbeddings.shape[0],))\n",
    "    #level_ = LSTM(150, input_shape=(None, None, levelEmbeddings.shape[0]), return_sequences=True)\n",
    "    level_ = Dense(32, activation='relu')(level_input)\n",
    "    level_ = Dense(16, activation='relu')(level_)\n",
    "\n",
    "    output = concatenate([tag_, level_])\n",
    "    #output = Reshape((None, 92))(output)\n",
    "    output = Bidirectional(LSTM(200, return_sequences=True, dropout=0.50, recurrent_dropout=0.25))(output)\n",
    "    output = TimeDistributed(Dense(len(label2Idx), activation='softmax'))(output)\n",
    "    output = Dense(32, activation='relu')(output)\n",
    "    output = Dense(16, activation='relu')(output)\n",
    "    output = Dense(len(label2Idx), activation='softmax')(output)\n",
    "\n",
    "    model = Model(inputs=[tag_input, level_input], outputs=[output])\n",
    "    model.compile(optimizer='rmsprop',\n",
    "                  loss='categorical_crossentropy',\n",
    "                  metrics=['accuracy'])\n",
    "    model.summary()\n",
    "    return model"
   ]
  },
  {
   "cell_type": "code",
   "execution_count": 114,
   "metadata": {},
   "outputs": [],
   "source": [
    "from keras.models import Model, Sequential\n",
    "from keras.layers import TimeDistributed,Conv1D,Dense,Embedding,Input,Dropout,LSTM,Bidirectional,MaxPooling1D,Flatten,concatenate\n",
    "\n",
    "\n",
    "def lstm_model():\n",
    "    model = Sequential()\n",
    "    model.add(LSTM(150, input_shape=(None, tagEmbeddings.shape[0])))\n",
    "    model.add(Dense(len(label2Idx)))\n",
    "    \n",
    "    model.compile(loss='sparse_categorical_crossentropy', optimizer='rmsprop')\n",
    "    model.summary()\n",
    "    return model"
   ]
  },
  {
   "cell_type": "markdown",
   "metadata": {},
   "source": [
    "#### Cross Validation - LSTM Model"
   ]
  },
  {
   "cell_type": "code",
   "execution_count": 115,
   "metadata": {},
   "outputs": [
    {
     "name": "stdout",
     "output_type": "stream",
     "text": [
      "Train Groups (URLs) {0, 1, 2, 4, 5, 6, 7, 8, 9, 10}\n",
      "Test Groups (URLs) {3}\n"
     ]
    },
    {
     "ename": "ValueError",
     "evalue": "Layer time_distributed_7 was called with an input that isn't a symbolic tensor. Received type: <class 'keras.layers.core.Reshape'>. Full input: [<keras.layers.core.Reshape object at 0x000002893D4298D0>]. All inputs to the layer should be tensors.",
     "output_type": "error",
     "traceback": [
      "\u001b[1;31m---------------------------------------------------------------------------\u001b[0m",
      "\u001b[1;31mValueError\u001b[0m                                Traceback (most recent call last)",
      "\u001b[1;32m~\\Anaconda3\\lib\\site-packages\\keras\\engine\\topology.py\u001b[0m in \u001b[0;36massert_input_compatibility\u001b[1;34m(self, inputs)\u001b[0m\n\u001b[0;32m    441\u001b[0m             \u001b[1;32mtry\u001b[0m\u001b[1;33m:\u001b[0m\u001b[1;33m\u001b[0m\u001b[0m\n\u001b[1;32m--> 442\u001b[1;33m                 \u001b[0mK\u001b[0m\u001b[1;33m.\u001b[0m\u001b[0mis_keras_tensor\u001b[0m\u001b[1;33m(\u001b[0m\u001b[0mx\u001b[0m\u001b[1;33m)\u001b[0m\u001b[1;33m\u001b[0m\u001b[0m\n\u001b[0m\u001b[0;32m    443\u001b[0m             \u001b[1;32mexcept\u001b[0m \u001b[0mValueError\u001b[0m\u001b[1;33m:\u001b[0m\u001b[1;33m\u001b[0m\u001b[0m\n",
      "\u001b[1;32m~\\Anaconda3\\lib\\site-packages\\keras\\backend\\tensorflow_backend.py\u001b[0m in \u001b[0;36mis_keras_tensor\u001b[1;34m(x)\u001b[0m\n\u001b[0;32m    467\u001b[0m                           tf.SparseTensor)):\n\u001b[1;32m--> 468\u001b[1;33m         raise ValueError('Unexpectedly found an instance of type `' + str(type(x)) + '`. '\n\u001b[0m\u001b[0;32m    469\u001b[0m                          'Expected a symbolic tensor instance.')\n",
      "\u001b[1;31mValueError\u001b[0m: Unexpectedly found an instance of type `<class 'keras.layers.core.Reshape'>`. Expected a symbolic tensor instance.",
      "\nDuring handling of the above exception, another exception occurred:\n",
      "\u001b[1;31mValueError\u001b[0m                                Traceback (most recent call last)",
      "\u001b[1;32m<ipython-input-115-c265af377ea0>\u001b[0m in \u001b[0;36m<module>\u001b[1;34m()\u001b[0m\n\u001b[0;32m     35\u001b[0m \u001b[1;33m\u001b[0m\u001b[0m\n\u001b[0;32m     36\u001b[0m     \u001b[0mmodel\u001b[0m \u001b[1;33m=\u001b[0m \u001b[0mKerasClassifier\u001b[0m\u001b[1;33m(\u001b[0m\u001b[0mbuild_fn\u001b[0m\u001b[1;33m=\u001b[0m\u001b[0mlstm_model\u001b[0m\u001b[1;33m)\u001b[0m\u001b[1;33m\u001b[0m\u001b[0m\n\u001b[1;32m---> 37\u001b[1;33m     \u001b[0mmodel\u001b[0m\u001b[1;33m.\u001b[0m\u001b[0mfit\u001b[0m\u001b[1;33m(\u001b[0m\u001b[0mX_train\u001b[0m\u001b[1;33m,\u001b[0m \u001b[0my_train\u001b[0m\u001b[1;33m,\u001b[0m \u001b[0mepochs\u001b[0m\u001b[1;33m=\u001b[0m\u001b[1;36m5\u001b[0m\u001b[1;33m,\u001b[0m \u001b[0mverbose\u001b[0m\u001b[1;33m=\u001b[0m\u001b[1;36m1\u001b[0m\u001b[1;33m,\u001b[0m \u001b[0mbatch_size\u001b[0m\u001b[1;33m=\u001b[0m\u001b[1;36m300\u001b[0m\u001b[1;33m)\u001b[0m\u001b[1;33m\u001b[0m\u001b[0m\n\u001b[0m\u001b[0;32m     38\u001b[0m \u001b[1;33m\u001b[0m\u001b[0m\n\u001b[0;32m     39\u001b[0m     \u001b[0mresult\u001b[0m \u001b[1;33m=\u001b[0m \u001b[0mmodel\u001b[0m\u001b[1;33m.\u001b[0m\u001b[0mpredict\u001b[0m\u001b[1;33m(\u001b[0m\u001b[0mX_test\u001b[0m\u001b[1;33m)\u001b[0m\u001b[1;33m\u001b[0m\u001b[0m\n",
      "\u001b[1;32m~\\Anaconda3\\lib\\site-packages\\keras\\wrappers\\scikit_learn.py\u001b[0m in \u001b[0;36mfit\u001b[1;34m(self, x, y, sample_weight, **kwargs)\u001b[0m\n\u001b[0;32m    207\u001b[0m         \u001b[1;32mif\u001b[0m \u001b[0msample_weight\u001b[0m \u001b[1;32mis\u001b[0m \u001b[1;32mnot\u001b[0m \u001b[1;32mNone\u001b[0m\u001b[1;33m:\u001b[0m\u001b[1;33m\u001b[0m\u001b[0m\n\u001b[0;32m    208\u001b[0m             \u001b[0mkwargs\u001b[0m\u001b[1;33m[\u001b[0m\u001b[1;34m'sample_weight'\u001b[0m\u001b[1;33m]\u001b[0m \u001b[1;33m=\u001b[0m \u001b[0msample_weight\u001b[0m\u001b[1;33m\u001b[0m\u001b[0m\n\u001b[1;32m--> 209\u001b[1;33m         \u001b[1;32mreturn\u001b[0m \u001b[0msuper\u001b[0m\u001b[1;33m(\u001b[0m\u001b[0mKerasClassifier\u001b[0m\u001b[1;33m,\u001b[0m \u001b[0mself\u001b[0m\u001b[1;33m)\u001b[0m\u001b[1;33m.\u001b[0m\u001b[0mfit\u001b[0m\u001b[1;33m(\u001b[0m\u001b[0mx\u001b[0m\u001b[1;33m,\u001b[0m \u001b[0my\u001b[0m\u001b[1;33m,\u001b[0m \u001b[1;33m**\u001b[0m\u001b[0mkwargs\u001b[0m\u001b[1;33m)\u001b[0m\u001b[1;33m\u001b[0m\u001b[0m\n\u001b[0m\u001b[0;32m    210\u001b[0m \u001b[1;33m\u001b[0m\u001b[0m\n\u001b[0;32m    211\u001b[0m     \u001b[1;32mdef\u001b[0m \u001b[0mpredict\u001b[0m\u001b[1;33m(\u001b[0m\u001b[0mself\u001b[0m\u001b[1;33m,\u001b[0m \u001b[0mx\u001b[0m\u001b[1;33m,\u001b[0m \u001b[1;33m**\u001b[0m\u001b[0mkwargs\u001b[0m\u001b[1;33m)\u001b[0m\u001b[1;33m:\u001b[0m\u001b[1;33m\u001b[0m\u001b[0m\n",
      "\u001b[1;32m~\\Anaconda3\\lib\\site-packages\\keras\\wrappers\\scikit_learn.py\u001b[0m in \u001b[0;36mfit\u001b[1;34m(self, x, y, **kwargs)\u001b[0m\n\u001b[0;32m    138\u001b[0m                 **self.filter_sk_params(self.build_fn.__call__))\n\u001b[0;32m    139\u001b[0m         \u001b[1;32melse\u001b[0m\u001b[1;33m:\u001b[0m\u001b[1;33m\u001b[0m\u001b[0m\n\u001b[1;32m--> 140\u001b[1;33m             \u001b[0mself\u001b[0m\u001b[1;33m.\u001b[0m\u001b[0mmodel\u001b[0m \u001b[1;33m=\u001b[0m \u001b[0mself\u001b[0m\u001b[1;33m.\u001b[0m\u001b[0mbuild_fn\u001b[0m\u001b[1;33m(\u001b[0m\u001b[1;33m**\u001b[0m\u001b[0mself\u001b[0m\u001b[1;33m.\u001b[0m\u001b[0mfilter_sk_params\u001b[0m\u001b[1;33m(\u001b[0m\u001b[0mself\u001b[0m\u001b[1;33m.\u001b[0m\u001b[0mbuild_fn\u001b[0m\u001b[1;33m)\u001b[0m\u001b[1;33m)\u001b[0m\u001b[1;33m\u001b[0m\u001b[0m\n\u001b[0m\u001b[0;32m    141\u001b[0m \u001b[1;33m\u001b[0m\u001b[0m\n\u001b[0;32m    142\u001b[0m         \u001b[0mloss_name\u001b[0m \u001b[1;33m=\u001b[0m \u001b[0mself\u001b[0m\u001b[1;33m.\u001b[0m\u001b[0mmodel\u001b[0m\u001b[1;33m.\u001b[0m\u001b[0mloss\u001b[0m\u001b[1;33m\u001b[0m\u001b[0m\n",
      "\u001b[1;32m<ipython-input-114-a763a83d9a9b>\u001b[0m in \u001b[0;36mlstm_model\u001b[1;34m()\u001b[0m\n\u001b[0;32m     13\u001b[0m     \u001b[0moutput\u001b[0m \u001b[1;33m=\u001b[0m \u001b[0mBidirectional\u001b[0m\u001b[1;33m(\u001b[0m\u001b[0mLSTM\u001b[0m\u001b[1;33m(\u001b[0m\u001b[1;36m200\u001b[0m\u001b[1;33m,\u001b[0m \u001b[0mreturn_sequences\u001b[0m\u001b[1;33m=\u001b[0m\u001b[1;32mTrue\u001b[0m\u001b[1;33m,\u001b[0m \u001b[0mdropout\u001b[0m\u001b[1;33m=\u001b[0m\u001b[1;36m0.50\u001b[0m\u001b[1;33m,\u001b[0m \u001b[0mrecurrent_dropout\u001b[0m\u001b[1;33m=\u001b[0m\u001b[1;36m0.25\u001b[0m\u001b[1;33m)\u001b[0m\u001b[1;33m)\u001b[0m\u001b[1;33m(\u001b[0m\u001b[0moutput\u001b[0m\u001b[1;33m)\u001b[0m\u001b[1;33m\u001b[0m\u001b[0m\n\u001b[0;32m     14\u001b[0m     \u001b[0moutput\u001b[0m \u001b[1;33m=\u001b[0m \u001b[0mReshape\u001b[0m\u001b[1;33m(\u001b[0m\u001b[1;33m(\u001b[0m\u001b[1;36m92\u001b[0m\u001b[1;33m,\u001b[0m\u001b[1;33m)\u001b[0m\u001b[1;33m)\u001b[0m\u001b[1;33m\u001b[0m\u001b[0m\n\u001b[1;32m---> 15\u001b[1;33m     \u001b[0moutput\u001b[0m \u001b[1;33m=\u001b[0m \u001b[0mTimeDistributed\u001b[0m\u001b[1;33m(\u001b[0m\u001b[0mDense\u001b[0m\u001b[1;33m(\u001b[0m\u001b[0mlen\u001b[0m\u001b[1;33m(\u001b[0m\u001b[0mlabel2Idx\u001b[0m\u001b[1;33m)\u001b[0m\u001b[1;33m,\u001b[0m \u001b[0mactivation\u001b[0m\u001b[1;33m=\u001b[0m\u001b[1;34m'softmax'\u001b[0m\u001b[1;33m)\u001b[0m\u001b[1;33m)\u001b[0m\u001b[1;33m(\u001b[0m\u001b[0moutput\u001b[0m\u001b[1;33m)\u001b[0m\u001b[1;33m\u001b[0m\u001b[0m\n\u001b[0m\u001b[0;32m     16\u001b[0m \u001b[1;33m\u001b[0m\u001b[0m\n\u001b[0;32m     17\u001b[0m     \u001b[0mmodel\u001b[0m \u001b[1;33m=\u001b[0m \u001b[0mModel\u001b[0m\u001b[1;33m(\u001b[0m\u001b[0minputs\u001b[0m\u001b[1;33m=\u001b[0m\u001b[1;33m[\u001b[0m\u001b[0mtag_input\u001b[0m\u001b[1;33m,\u001b[0m \u001b[0mlevel_input\u001b[0m\u001b[1;33m]\u001b[0m\u001b[1;33m,\u001b[0m \u001b[0moutputs\u001b[0m\u001b[1;33m=\u001b[0m\u001b[1;33m[\u001b[0m\u001b[0moutput\u001b[0m\u001b[1;33m]\u001b[0m\u001b[1;33m)\u001b[0m\u001b[1;33m\u001b[0m\u001b[0m\n",
      "\u001b[1;32m~\\Anaconda3\\lib\\site-packages\\keras\\engine\\topology.py\u001b[0m in \u001b[0;36m__call__\u001b[1;34m(self, inputs, **kwargs)\u001b[0m\n\u001b[0;32m    573\u001b[0m                 \u001b[1;31m# Raise exceptions in case the input is not compatible\u001b[0m\u001b[1;33m\u001b[0m\u001b[1;33m\u001b[0m\u001b[0m\n\u001b[0;32m    574\u001b[0m                 \u001b[1;31m# with the input_spec specified in the layer constructor.\u001b[0m\u001b[1;33m\u001b[0m\u001b[1;33m\u001b[0m\u001b[0m\n\u001b[1;32m--> 575\u001b[1;33m                 \u001b[0mself\u001b[0m\u001b[1;33m.\u001b[0m\u001b[0massert_input_compatibility\u001b[0m\u001b[1;33m(\u001b[0m\u001b[0minputs\u001b[0m\u001b[1;33m)\u001b[0m\u001b[1;33m\u001b[0m\u001b[0m\n\u001b[0m\u001b[0;32m    576\u001b[0m \u001b[1;33m\u001b[0m\u001b[0m\n\u001b[0;32m    577\u001b[0m                 \u001b[1;31m# Collect input shapes to build layer.\u001b[0m\u001b[1;33m\u001b[0m\u001b[1;33m\u001b[0m\u001b[0m\n",
      "\u001b[1;32m~\\Anaconda3\\lib\\site-packages\\keras\\engine\\topology.py\u001b[0m in \u001b[0;36massert_input_compatibility\u001b[1;34m(self, inputs)\u001b[0m\n\u001b[0;32m    446\u001b[0m                                  \u001b[1;34m'Received type: '\u001b[0m \u001b[1;33m+\u001b[0m\u001b[1;33m\u001b[0m\u001b[0m\n\u001b[0;32m    447\u001b[0m                                  \u001b[0mstr\u001b[0m\u001b[1;33m(\u001b[0m\u001b[0mtype\u001b[0m\u001b[1;33m(\u001b[0m\u001b[0mx\u001b[0m\u001b[1;33m)\u001b[0m\u001b[1;33m)\u001b[0m \u001b[1;33m+\u001b[0m \u001b[1;34m'. Full input: '\u001b[0m \u001b[1;33m+\u001b[0m\u001b[1;33m\u001b[0m\u001b[0m\n\u001b[1;32m--> 448\u001b[1;33m                                  \u001b[0mstr\u001b[0m\u001b[1;33m(\u001b[0m\u001b[0minputs\u001b[0m\u001b[1;33m)\u001b[0m \u001b[1;33m+\u001b[0m \u001b[1;34m'. All inputs to the layer '\u001b[0m\u001b[1;33m\u001b[0m\u001b[0m\n\u001b[0m\u001b[0;32m    449\u001b[0m                                  'should be tensors.')\n\u001b[0;32m    450\u001b[0m \u001b[1;33m\u001b[0m\u001b[0m\n",
      "\u001b[1;31mValueError\u001b[0m: Layer time_distributed_7 was called with an input that isn't a symbolic tensor. Received type: <class 'keras.layers.core.Reshape'>. Full input: [<keras.layers.core.Reshape object at 0x000002893D4298D0>]. All inputs to the layer should be tensors."
     ]
    }
   ],
   "source": [
    "from sklearn.model_selection import GroupKFold\n",
    "from keras.wrappers.scikit_learn import KerasClassifier\n",
    "from sklearn.metrics import accuracy_score, f1_score, precision_score, recall_score, confusion_matrix\n",
    "\n",
    "\n",
    "accuracy = []\n",
    "precision = []\n",
    "recall = []\n",
    "f1 = []\n",
    "confusion = []\n",
    "\n",
    "gp = GroupKFold(n_splits=8)\n",
    "for train_indexs, test_indexs in gp.split(features['tags'], groups=features['groups']):\n",
    "    \n",
    "    tags_train = features['tags'][train_indexs]\n",
    "    levels_train = features['levels'][train_indexs]\n",
    "    X_train = [tags_train, levels_train]\n",
    "    y_train = features['labels'][train_indexs]\n",
    "    \n",
    "    tags_test = features['tags'][test_indexs]\n",
    "    levels_test = features['levels'][test_indexs]\n",
    "    X_test = [tags_test, levels_test]\n",
    "    y_test = features['labels'][test_indexs]\n",
    "\n",
    "    groups_train = features['groups'][train_indexs]\n",
    "    groups_test = features['groups'][test_indexs]\n",
    "    train_g = set()\n",
    "    test_g = set()\n",
    "    for g in groups_train:\n",
    "        train_g.add(g)\n",
    "    for g in groups_test:\n",
    "        test_g.add(g)\n",
    "    print('Train Groups (URLs)', train_g)\n",
    "    print('Test Groups (URLs)', test_g)\n",
    "    \n",
    "    model = KerasClassifier(build_fn=lstm_model)\n",
    "    model.fit(X_train, y_train, epochs=5, verbose=1, batch_size=300)\n",
    "\n",
    "    result = model.predict(X_test)\n",
    "    y_test = [r.tolist().index(1) for r in y_test]\n",
    "    acc = accuracy_score(result, y_test)\n",
    "    accuracy.append(acc)\n",
    "    p = precision_score(result, y_test, average=\"macro\")\n",
    "    precision.append(p)\n",
    "    r = recall_score(result, y_test, average=\"macro\")\n",
    "    recall.append(r)\n",
    "    f = f1_score(result, y_test, average=\"macro\")\n",
    "    f1.append(f)\n",
    "    confusion.append(confusion_matrix(result, y_test))\n",
    "    \n",
    "    print(\"%s: %.2f %%\" % ('Acc', acc*100))\n",
    "    print(\"%s: %.2f %%\" % ('Precision', p*100))\n",
    "    print(\"%s: %.2f %%\" % ('Recall', r*100))\n",
    "    print(\"%s: %.2f %%\" % ('F1', f*100))\n",
    "    print('')\n",
    "\n",
    "print(\"Acc %.2f %% (+/- %.2f %%)\" % (np.mean(accuracy)*100, np.std(accuracy)*100))\n",
    "print(\"Precision %.2f %% (+/- %.2f %%)\" % (np.mean(precision)*100, np.std(precision)*100))\n",
    "print(\"Recall %.2f %% (+/- %.2f %%)\" % (np.mean(recall)*100, np.std(recall)*100))\n",
    "print(\"F1 %.2f %% (+/- %.2f %%)\" % (np.mean(f1)*100, np.std(f1)*100))"
   ]
  },
  {
   "cell_type": "code",
   "execution_count": null,
   "metadata": {},
   "outputs": [],
   "source": []
  }
 ],
 "metadata": {
  "kernelspec": {
   "display_name": "Python 3",
   "language": "python",
   "name": "python3"
  },
  "language_info": {
   "codemirror_mode": {
    "name": "ipython",
    "version": 3
   },
   "file_extension": ".py",
   "mimetype": "text/x-python",
   "name": "python",
   "nbconvert_exporter": "python",
   "pygments_lexer": "ipython3",
   "version": "3.6.4"
  }
 },
 "nbformat": 4,
 "nbformat_minor": 2
}
