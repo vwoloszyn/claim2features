{
 "cells": [
  {
   "cell_type": "markdown",
   "metadata": {},
   "source": [
    "### Load data"
   ]
  },
  {
   "cell_type": "code",
   "execution_count": 65,
   "metadata": {},
   "outputs": [],
   "source": [
    "import pandas as pd\n",
    "import numpy as np\n",
    "\n",
    "\n",
    "data_path = 'features_annotated.csv'\n",
    "df = pd.read_csv(data_path)"
   ]
  },
  {
   "cell_type": "markdown",
   "metadata": {},
   "source": [
    "### Create a mapping for the URLs"
   ]
  },
  {
   "cell_type": "code",
   "execution_count": 66,
   "metadata": {},
   "outputs": [],
   "source": [
    "urlSet = set()\n",
    "for u in df['url'].values:\n",
    "    urlSet.add(u)\n",
    "\n",
    "url2Idx = {}\n",
    "for url in urlSet:\n",
    "    url2Idx[url] = len(url2Idx)"
   ]
  },
  {
   "cell_type": "code",
   "execution_count": 78,
   "metadata": {},
   "outputs": [
    {
     "data": {
      "text/plain": [
       "{'http://checkyourfact.com/2018/07/09/fact-check-nfl-ratings-20-percent/': 4,\n",
       " 'http://www.politifact.com/personalities/sean-hannity/': 10,\n",
       " 'https://africacheck.org/reports/eskom-and-the-viral-infographic-do-the-numbers-add-up/': 2,\n",
       " 'https://fullfact.org/europe/uk-one-biggest-contributors-eu-budget/?utm_source=homepage&utm_medium=main_story': 8,\n",
       " 'https://hoax-alert.leadstories.com/3469573-fake-news-florida-babysitter-tied-crying-one-month-old-baby-to-ceiling-fan-for-26-hours.html': 5,\n",
       " 'https://pesacheck.org/have-58-of-ugandas-roads-been-built-using-only-government-money-e2156f2aa41a': 1,\n",
       " 'https://theconversation.com/factcheck-is-australias-population-the-highest-growing-in-the-world-96523': 0,\n",
       " 'https://theferret.scot/scotland-oil-abu-dhabi-dubai/': 6,\n",
       " 'https://www.factcheck.org/2018/07/trumps-false-claims-at-nato/': 7,\n",
       " 'https://www.snopes.com/fact-check/hillary-clinton-smash-phone-hammer/': 9,\n",
       " 'https://www.washingtonpost.com/news/fact-checker/wp/2018/07/18/phil-bredesens-claim-that-tennessees-meth-problem-was-cut-in-half/?utm_term=.f3688d506f6c': 3}"
      ]
     },
     "execution_count": 78,
     "metadata": {},
     "output_type": "execute_result"
    }
   ],
   "source": [
    "url2Idx"
   ]
  },
  {
   "cell_type": "markdown",
   "metadata": {},
   "source": [
    "### Create a mapping for the labels"
   ]
  },
  {
   "cell_type": "code",
   "execution_count": 67,
   "metadata": {},
   "outputs": [],
   "source": [
    "labelSet = set()\n",
    "for l in df['label'].values:\n",
    "    labelSet.add(l)\n",
    "\n",
    "label2Idx = {}\n",
    "for label in labelSet:\n",
    "    label2Idx[label] = len(label2Idx)\n",
    "labelEmbeddings = np.identity(len(label2Idx), dtype='float32')"
   ]
  },
  {
   "cell_type": "code",
   "execution_count": 68,
   "metadata": {},
   "outputs": [
    {
     "data": {
      "text/plain": [
       "{'Body': 0,\n",
       " 'Claim': 1,\n",
       " 'Credibility': 6,\n",
       " 'Date': 3,\n",
       " 'None': 5,\n",
       " 'Sources': 4,\n",
       " 'Title': 2}"
      ]
     },
     "execution_count": 68,
     "metadata": {},
     "output_type": "execute_result"
    }
   ],
   "source": [
    "label2Idx"
   ]
  },
  {
   "cell_type": "markdown",
   "metadata": {},
   "source": [
    "### Create a mapping for the tags"
   ]
  },
  {
   "cell_type": "code",
   "execution_count": 69,
   "metadata": {},
   "outputs": [],
   "source": [
    "tagSet = set()\n",
    "for t in df['tag'].values:\n",
    "    tagSet.add(t)\n",
    "\n",
    "tag2Idx = {}\n",
    "for tag in tagSet:\n",
    "    tag2Idx[tag] = len(tag2Idx)\n",
    "tagEmbeddings = np.identity(len(tag2Idx), dtype='float32')"
   ]
  },
  {
   "cell_type": "code",
   "execution_count": 79,
   "metadata": {},
   "outputs": [
    {
     "data": {
      "text/plain": [
       "{'[document]': 12,\n",
       " 'a': 30,\n",
       " 'abbr': 3,\n",
       " 'address': 42,\n",
       " 'article': 63,\n",
       " 'aside': 20,\n",
       " 'author': 54,\n",
       " 'b': 45,\n",
       " 'base': 53,\n",
       " 'blockquote': 47,\n",
       " 'body': 55,\n",
       " 'br': 16,\n",
       " 'button': 24,\n",
       " 'canvas': 51,\n",
       " 'center': 0,\n",
       " 'cite': 49,\n",
       " 'detail': 59,\n",
       " 'div': 8,\n",
       " 'em': 7,\n",
       " 'fieldset': 44,\n",
       " 'figcaption': 32,\n",
       " 'figure': 22,\n",
       " 'footer': 31,\n",
       " 'form': 65,\n",
       " 'g': 27,\n",
       " 'h1': 2,\n",
       " 'h2': 58,\n",
       " 'h3': 66,\n",
       " 'h4': 71,\n",
       " 'h5': 62,\n",
       " 'h6': 50,\n",
       " 'head': 57,\n",
       " 'header': 9,\n",
       " 'hr': 35,\n",
       " 'html': 60,\n",
       " 'i': 21,\n",
       " 'iframe': 41,\n",
       " 'img': 56,\n",
       " 'input': 15,\n",
       " 'ins': 64,\n",
       " 'label': 5,\n",
       " 'legend': 10,\n",
       " 'li': 19,\n",
       " 'link': 29,\n",
       " 'main': 39,\n",
       " 'meta': 18,\n",
       " 'nav': 25,\n",
       " 'noscript': 4,\n",
       " 'ol': 17,\n",
       " 'option': 52,\n",
       " 'p': 37,\n",
       " 'path': 46,\n",
       " 'photo': 38,\n",
       " 'section': 11,\n",
       " 'select': 69,\n",
       " 'sidebar': 26,\n",
       " 'small': 61,\n",
       " 'snippet': 48,\n",
       " 'span': 1,\n",
       " 'strong': 23,\n",
       " 'style': 43,\n",
       " 'sup': 14,\n",
       " 'svg': 33,\n",
       " 'symbol': 13,\n",
       " 'text': 28,\n",
       " 'textarea': 36,\n",
       " 'time': 67,\n",
       " 'title': 40,\n",
       " 'u': 34,\n",
       " 'ul': 70,\n",
       " 'use': 68,\n",
       " 'wp-ad': 6}"
      ]
     },
     "execution_count": 79,
     "metadata": {},
     "output_type": "execute_result"
    }
   ],
   "source": [
    "tag2Idx"
   ]
  },
  {
   "cell_type": "markdown",
   "metadata": {},
   "source": [
    "##### ToDo - Improve level feature representation"
   ]
  },
  {
   "cell_type": "code",
   "execution_count": 70,
   "metadata": {},
   "outputs": [],
   "source": [
    "levelEmbeddings = np.identity(max(df['level'].values), dtype='float32')"
   ]
  },
  {
   "cell_type": "markdown",
   "metadata": {},
   "source": [
    "### Data to features"
   ]
  },
  {
   "cell_type": "code",
   "execution_count": 71,
   "metadata": {},
   "outputs": [],
   "source": [
    "columns = ['url', 'label', 'tag', 'level']  # 0 url  1 label\n",
    "\n",
    "features = {'tags': [], 'levels': [], 'labels': [], 'groups': []}"
   ]
  },
  {
   "cell_type": "code",
   "execution_count": 72,
   "metadata": {},
   "outputs": [],
   "source": [
    "for data in df[columns].values:\n",
    "    features['groups'].append(url2Idx[data[0]])\n",
    "    features['labels'].append(labelEmbeddings[label2Idx[data[1]]])\n",
    "    features['tags'].append(tagEmbeddings[tag2Idx[data[2]]])\n",
    "    features['levels'].append(levelEmbeddings[data[3]-1])\n",
    "features['tags'] = np.array(features['tags'])\n",
    "features['levels'] = np.array(features['levels'])\n",
    "features['labels'] = np.array(features['labels'])\n",
    "features['groups'] = np.array(features['groups'])"
   ]
  },
  {
   "cell_type": "markdown",
   "metadata": {},
   "source": [
    "### Util - Plot confusion matrix"
   ]
  },
  {
   "cell_type": "code",
   "execution_count": 73,
   "metadata": {},
   "outputs": [],
   "source": [
    "import matplotlib.pyplot as plt\n",
    "import itertools\n",
    "\n",
    "\n",
    "def plot_confusion_matrix(cm, classes,\n",
    "                          normalize=True,\n",
    "                          title='Confusion matrix',\n",
    "                          cmap=plt.cm.Blues):\n",
    "    \"\"\"\n",
    "    This function prints and plots the confusion matrix.\n",
    "    Normalization can be applied by setting `normalize=True`.\n",
    "    \"\"\"\n",
    "    if normalize:\n",
    "        cm = cm.astype('float') / cm.sum(axis=1)[:, np.newaxis]\n",
    "\n",
    "    plt.imshow(cm, interpolation='nearest', cmap=cmap)\n",
    "    plt.title(title)\n",
    "    plt.colorbar()\n",
    "    tick_marks = np.arange(len(classes))\n",
    "    plt.xticks(tick_marks, classes, rotation=45)\n",
    "    plt.yticks(tick_marks, classes)\n",
    "\n",
    "    fmt = '.2f' if normalize else 'd'\n",
    "    thresh = cm.max() / 2.\n",
    "    for i, j in itertools.product(range(cm.shape[0]), range(cm.shape[1])):\n",
    "        plt.text(j, i, format(cm[i, j], fmt),\n",
    "                 horizontalalignment=\"center\",\n",
    "                 color=\"white\" if cm[i, j] > thresh else \"black\")\n",
    "\n",
    "    plt.tight_layout()\n",
    "    plt.ylabel('True label')\n",
    "    plt.xlabel('Predicted label')"
   ]
  },
  {
   "cell_type": "markdown",
   "metadata": {},
   "source": [
    "### Dense Model"
   ]
  },
  {
   "cell_type": "code",
   "execution_count": 74,
   "metadata": {
    "scrolled": true
   },
   "outputs": [],
   "source": [
    "from keras.models import Model\n",
    "from keras.layers import TimeDistributed,Conv1D,Dense,Embedding,Input,Dropout,LSTM,Bidirectional,MaxPooling1D,Flatten,concatenate\n",
    "\n",
    "\n",
    "def dense_model():\n",
    "    tag_input = Input(shape=(tagEmbeddings.shape[0],))\n",
    "    tag_ = Dense(32, activation='relu')(tag_input)\n",
    "    tag_ = Dense(16, activation='relu')(tag_)\n",
    "\n",
    "    level_input = Input(shape=(levelEmbeddings.shape[0],))\n",
    "    level_ = Dense(32, activation='relu')(level_input)\n",
    "    level_ = Dense(16, activation='relu')(level_)\n",
    "\n",
    "    output = concatenate([tag_, level_])\n",
    "    output = Dense(32, activation='relu')(output)\n",
    "    output = Dense(16, activation='relu')(output)\n",
    "    output = Dense(len(label2Idx), activation='softmax')(output)\n",
    "\n",
    "    model = Model(inputs=[tag_input, level_input], outputs=[output])\n",
    "    model.compile(optimizer='rmsprop',\n",
    "                  loss='categorical_crossentropy',\n",
    "                  metrics=['accuracy'])\n",
    "    return model"
   ]
  },
  {
   "cell_type": "markdown",
   "metadata": {},
   "source": [
    "#### Cross Validation - Dense Model"
   ]
  },
  {
   "cell_type": "code",
   "execution_count": 81,
   "metadata": {
    "scrolled": true
   },
   "outputs": [
    {
     "name": "stdout",
     "output_type": "stream",
     "text": [
      "Train Groups (URLs) {0, 1, 3, 4, 5, 6, 7, 8, 9, 10}\n",
      "Test Groups (URLs) {2}\n"
     ]
    },
    {
     "name": "stderr",
     "output_type": "stream",
     "text": [
      "C:\\Users\\55519\\Anaconda3\\lib\\site-packages\\sklearn\\metrics\\classification.py:1137: UndefinedMetricWarning: Recall is ill-defined and being set to 0.0 in labels with no true samples.\n",
      "  'recall', 'true', average, warn_for)\n",
      "C:\\Users\\55519\\Anaconda3\\lib\\site-packages\\sklearn\\metrics\\classification.py:1137: UndefinedMetricWarning: F-score is ill-defined and being set to 0.0 in labels with no true samples.\n",
      "  'recall', 'true', average, warn_for)\n"
     ]
    },
    {
     "name": "stdout",
     "output_type": "stream",
     "text": [
      "Acc: 89.16 %\n",
      "Precision: 25.29 %\n",
      "Recall: 21.96 %\n",
      "F1: 23.42 %\n",
      "\n",
      "Train Groups (URLs) {1, 2, 3, 4, 5, 6, 7, 8, 9, 10}\n",
      "Test Groups (URLs) {0}\n",
      "Acc: 90.33 %\n",
      "Precision: 28.28 %\n",
      "Recall: 27.43 %\n",
      "F1: 27.85 %\n",
      "\n",
      "Train Groups (URLs) {0, 1, 2, 3, 4, 5, 6, 7, 8, 9}\n",
      "Test Groups (URLs) {10}\n",
      "Acc: 96.19 %\n",
      "Precision: 14.24 %\n",
      "Recall: 13.78 %\n",
      "F1: 14.01 %\n",
      "\n",
      "Train Groups (URLs) {0, 1, 2, 3, 4, 5, 6, 8, 9, 10}\n",
      "Test Groups (URLs) {7}\n",
      "Acc: 86.29 %\n",
      "Precision: 14.29 %\n",
      "Recall: 12.33 %\n",
      "F1: 13.23 %\n",
      "\n",
      "Train Groups (URLs) {0, 1, 2, 3, 4, 5, 6, 7, 8, 10}\n",
      "Test Groups (URLs) {9}\n",
      "Acc: 94.15 %\n",
      "Precision: 24.26 %\n",
      "Recall: 18.87 %\n",
      "F1: 20.56 %\n",
      "\n",
      "Train Groups (URLs) {0, 1, 2, 3, 6, 7, 8, 9, 10}\n",
      "Test Groups (URLs) {4, 5}\n",
      "Acc: 89.11 %\n",
      "Precision: 18.17 %\n",
      "Recall: 20.02 %\n",
      "F1: 18.63 %\n",
      "\n",
      "Train Groups (URLs) {0, 1, 2, 3, 4, 5, 7, 9, 10}\n",
      "Test Groups (URLs) {8, 6}\n",
      "Acc: 88.95 %\n",
      "Precision: 26.36 %\n",
      "Recall: 19.77 %\n",
      "F1: 21.96 %\n",
      "\n",
      "Train Groups (URLs) {0, 2, 4, 5, 6, 7, 8, 9, 10}\n",
      "Test Groups (URLs) {1, 3}\n",
      "Acc: 94.85 %\n",
      "Precision: 26.50 %\n",
      "Recall: 23.98 %\n",
      "F1: 25.13 %\n",
      "\n",
      "Acc 91.13 % (+/- 3.26 %)\n",
      "Precision 22.17 % (+/- 5.35 %)\n",
      "Recall 19.77 % (+/- 4.66 %)\n",
      "F1 20.60 % (+/- 4.80 %)\n"
     ]
    }
   ],
   "source": [
    "from sklearn.model_selection import GroupKFold\n",
    "from keras.wrappers.scikit_learn import KerasClassifier\n",
    "from sklearn.metrics import accuracy_score, f1_score, precision_score, recall_score, confusion_matrix\n",
    "\n",
    "\n",
    "accuracy = []\n",
    "precision = []\n",
    "recall = []\n",
    "f1 = []\n",
    "confusion = []\n",
    "\n",
    "gp = GroupKFold(n_splits=8)\n",
    "for train_indexs, test_indexs in gp.split(features['tags'], groups=features['groups']):\n",
    "    \n",
    "    tags_train = features['tags'][train_indexs]\n",
    "    levels_train = features['levels'][train_indexs]\n",
    "    X_train = [tags_train, levels_train]\n",
    "    y_train = features['labels'][train_indexs]\n",
    "    \n",
    "    tags_test = features['tags'][test_indexs]\n",
    "    levels_test = features['levels'][test_indexs]\n",
    "    X_test = [tags_test, levels_test]\n",
    "    y_test = features['labels'][test_indexs]\n",
    "\n",
    "    groups_train = features['groups'][train_indexs]\n",
    "    groups_test = features['groups'][test_indexs]\n",
    "    train_g = set()\n",
    "    test_g = set()\n",
    "    for g in groups_train:\n",
    "        train_g.add(g)\n",
    "    for g in groups_test:\n",
    "        test_g.add(g)\n",
    "    print('Train Groups (URLs)', train_g)\n",
    "    print('Test Groups (URLs)', test_g)\n",
    "    \n",
    "    model = KerasClassifier(build_fn=dense_model)\n",
    "    model.fit(X_train, y_train, epochs=5, verbose=0)\n",
    "\n",
    "    result = model.predict(X_test)\n",
    "    y_test = [r.tolist().index(1) for r in y_test]\n",
    "    acc = accuracy_score(result, y_test)\n",
    "    accuracy.append(acc)\n",
    "    p = precision_score(result, y_test, average=\"macro\")\n",
    "    precision.append(p)\n",
    "    r = recall_score(result, y_test, average=\"macro\")\n",
    "    recall.append(r)\n",
    "    f = f1_score(result, y_test, average=\"macro\")\n",
    "    f1.append(f)\n",
    "    confusion.append(confusion_matrix(result, y_test))\n",
    "    \n",
    "    print(\"%s: %.2f %%\" % ('Acc', acc*100))\n",
    "    print(\"%s: %.2f %%\" % ('Precision', p*100))\n",
    "    print(\"%s: %.2f %%\" % ('Recall', r*100))\n",
    "    print(\"%s: %.2f %%\" % ('F1', f*100))\n",
    "    print('')\n",
    "\n",
    "print(\"Acc %.2f %% (+/- %.2f %%)\" % (np.mean(accuracy)*100, np.std(accuracy)*100))\n",
    "print(\"Precision %.2f %% (+/- %.2f %%)\" % (np.mean(precision)*100, np.std(precision)*100))\n",
    "print(\"Recall %.2f %% (+/- %.2f %%)\" % (np.mean(recall)*100, np.std(recall)*100))\n",
    "print(\"F1 %.2f %% (+/- %.2f %%)\" % (np.mean(f1)*100, np.std(f1)*100))"
   ]
  },
  {
   "cell_type": "markdown",
   "metadata": {},
   "source": [
    "###### Confusion Matrix plot"
   ]
  },
  {
   "cell_type": "code",
   "execution_count": 60,
   "metadata": {},
   "outputs": [
    {
     "name": "stderr",
     "output_type": "stream",
     "text": [
      "C:\\Users\\55519\\Anaconda3\\lib\\site-packages\\ipykernel_launcher.py:14: RuntimeWarning: invalid value encountered in true_divide\n",
      "  \n",
      "C:\\Users\\55519\\Anaconda3\\lib\\site-packages\\numpy\\core\\_methods.py:26: RuntimeWarning: invalid value encountered in reduce\n",
      "  return umr_maximum(a, axis, None, out, keepdims)\n"
     ]
    },
    {
     "data": {
      "image/png": "[encoded data removed]",
      "text/plain": [
       "<matplotlib.figure.Figure at 0x2392dbfb630>"
      ]
     },
     "metadata": {},
     "output_type": "display_data"
    }
   ],
   "source": [
    "nc = []\n",
    "for c in confusion:\n",
    "    d = len(label2Idx) - len(c)\n",
    "    c = np.pad(c, (0,d), 'constant')\n",
    "    nc.append(c)\n",
    "confusion = nc\n",
    "cm = np.mean(confusion, axis=0)\n",
    "plot_confusion_matrix(cm, ['Body', 'Claim', 'Title', 'Date', 'Sources', 'None', 'Credibility'], normalize=True)"
   ]
  },
  {
   "cell_type": "markdown",
   "metadata": {},
   "source": [
    "### LSTM model"
   ]
  },
  {
   "cell_type": "code",
   "execution_count": null,
   "metadata": {},
   "outputs": [],
   "source": [
    "from keras.models import Model\n",
    "from keras.layers import TimeDistributed,Conv1D,Dense,Embedding,Input,Dropout,LSTM,Bidirectional,MaxPooling1D,Flatten,concatenate\n",
    "\n",
    "\n",
    "tag_input = Input(shape=(None,), dtype='int32', name='tags_input')\n",
    "tag = Embedding(output_dim=tagEmbeddings.shape[1], input_dim=tagEmbeddings.shape[0], weights=[tagEmbeddings], trainable=False)(tag_input)\n",
    "\n",
    "level_input = Input(shape=(None,), dtype='int32', name='levels_input')\n",
    "level = Embedding(output_dim=levelEmbeddings.shape[1], input_dim=levelEmbeddings.shape[0], weights=[levelEmbeddings], trainable=False)(level_input)\n",
    "\n",
    "output = concatenate([tag, level])\n",
    "output = Bidirectional(LSTM(200, return_sequences=True, dropout=0.50, recurrent_dropout=0.25))(output)\n",
    "output = TimeDistributed(Dense(len(label2Idx), activation='softmax'))(output)\n",
    "\n",
    "model = Model(inputs=[tag_input, level_input], outputs=[output])\n",
    "model.compile(loss='sparse_categorical_crossentropy', optimizer='rmsprop')\n",
    "model.summary()\n",
    "#model.fit([tag_features, level_features], labels, epochs=10)"
   ]
  }
 ],
 "metadata": {
  "kernelspec": {
   "display_name": "Python 3",
   "language": "python",
   "name": "python3"
  },
  "language_info": {
   "codemirror_mode": {
    "name": "ipython",
    "version": 3
   },
   "file_extension": ".py",
   "mimetype": "text/x-python",
   "name": "python",
   "nbconvert_exporter": "python",
   "pygments_lexer": "ipython3",
   "version": "3.6.4"
  }
 },
 "nbformat": 4,
 "nbformat_minor": 2
}
