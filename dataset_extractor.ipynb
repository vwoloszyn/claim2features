{
 "cells": [
  {
   "cell_type": "code",
   "execution_count": null,
   "metadata": {},
   "outputs": [],
   "source": [
    "import bs4\n",
    "from bs4 import BeautifulSoup\n",
    "import pandas as pd\n",
    "import numpy as np\n",
    "import urllib"
   ]
  },
  {
   "cell_type": "code",
   "execution_count": null,
   "metadata": {},
   "outputs": [],
   "source": [
    "ignore_html_tags = ['script']\n",
    "file_output = 'dataset.csv'\n",
    "\n",
    "def get_soup(url):\n",
    "    user_agent = 'Mozilla/5.0 (Macintosh; Intel Mac OS X 10_9_3) AppleWebKit/537.36 (KHTML, like Gecko) Chrome/35.0.1916.47 Safari/537.36'\n",
    "    request = urllib.request.urlopen(urllib.request.Request(url, data=None, headers={'User-Agent': user_agent}))\n",
    "    page = request.read()\n",
    "    return BeautifulSoup(page, 'lxml')\n",
    "\n",
    "def treat_text(text):\n",
    "    return text.replace('\\n', '').replace('\\t', '').strip()"
   ]
  },
  {
   "cell_type": "code",
   "execution_count": null,
   "metadata": {},
   "outputs": [],
   "source": [
    "def snopes():\n",
    "    data = []\n",
    "    pages = 11\n",
    "    for page_number in range(1, pages):\n",
    "        print('')\n",
    "        print(page_number, '/', pages-1, '  ', end='')\n",
    "        try:\n",
    "            url_ = \"https://www.snopes.com/fact-check/page/\" + str(page_number) + \"/\"\n",
    "            soup_ = get_soup(url_)\n",
    "        except:\n",
    "            print(\"Error urlopen.\")\n",
    "            break\n",
    "        soup_.prettify()\n",
    "        links = soup_.findAll('a', {\"class\": \"article-link\"}, href=True)\n",
    "        for anchor in links:\n",
    "            print('.', end='')\n",
    "            url = anchor['href']\n",
    "            soup = get_soup(url)\n",
    "            soup.prettify(\"utf-8\")\n",
    "            snopes_walk_html(soup, data, 'snope', url, 0)\n",
    "    return data\n",
    "            \n",
    "def snopes_walk_html(element, data, site, url, level, parent=None, brothers=None):\n",
    "    features = {}\n",
    "    if element is None:\n",
    "        return\n",
    "    features['site'] = site\n",
    "    features['url'] = url\n",
    "    features['tag'] = element.name\n",
    "    features['attrs'] = element.attrs\n",
    "    features['level'] = level\n",
    "    text = treat_text(element.text)\n",
    "    features['text'] = text[:1000]\n",
    "\n",
    "    # Title\n",
    "    if (features['tag'] == 'h1' and\n",
    "         'class' in features['attrs'] and\n",
    "         'article-title' in features['attrs']['class']):\n",
    "        features['label'] = 'Title'\n",
    "        #print(\"Title\")\n",
    "    \n",
    "    # Date\n",
    "    elif ((features['tag'] == 'meta' and\n",
    "          'itemprop' in features['attrs'] and\n",
    "          'datePublished' in features['attrs']['itemprop']) or\n",
    "          (features['tag'] == 'span' and\n",
    "          'class' in features['attrs'] and\n",
    "          'date-wrapper' in features['attrs']['class']) or\n",
    "          (features['tag'] == 'span' and\n",
    "          'itemprop' in features['attrs'] and\n",
    "          'itemReviewed' in features['itemprop'])):\n",
    "        features['label'] = 'Date'\n",
    "        #print(\"Date\")\n",
    "    \n",
    "    # Body\n",
    "    elif (features['tag'] == 'div' and \n",
    "          'class' in features['attrs'] and \n",
    "          'article-text-inner' in features['attrs']['class']):\n",
    "        features['label'] = 'Body'\n",
    "        #print(\"Body\")\n",
    "    \n",
    "    # Claim\n",
    "    elif (features['tag'] == 'p' and \n",
    "          len(brothers) > 0 and\n",
    "          'class' in brothers[-1]['attrs'] and\n",
    "          'claim' in brothers[-1]['attrs']['class'] and\n",
    "          'section-break' in brothers[-1]['attrs']['class']):\n",
    "        features['label'] = 'Claim'\n",
    "        #print(\"Claim\")\n",
    "    \n",
    "    # Credibility\n",
    "    elif (features['tag'] == 'span' and \n",
    "          parent is not None and\n",
    "          parent['tag'] == 'a' and\n",
    "          'class' in parent['attrs'] and\n",
    "          'claim' in parent['attrs']['class']):\n",
    "        features['label'] = 'Credibility'\n",
    "        #print(\"Credibility\")\n",
    "    \n",
    "    # None\n",
    "    else:\n",
    "        features['label'] = 'None'\n",
    "    \n",
    "    data.append(features)\n",
    "    brothers_ = []\n",
    "    for e_child in element:\n",
    "        if (type(e_child) == bs4.element.NavigableString or\n",
    "            type(e_child) == bs4.element.Comment or\n",
    "            type(e_child) == bs4.element.Doctype or\n",
    "            type(e_child) == str or e_child.name in ignore_html_tags):\n",
    "                continue\n",
    "        brothers_.append(snopes_walk_html(e_child, data, site, url, level+1, parent=features, brothers=brothers_))\n",
    "    return features"
   ]
  },
  {
   "cell_type": "code",
   "execution_count": null,
   "metadata": {},
   "outputs": [],
   "source": [
    "data = snopes()"
   ]
  },
  {
   "cell_type": "code",
   "execution_count": null,
   "metadata": {},
   "outputs": [],
   "source": [
    "html = get_soup('https://www.snopes.com/fact-check/trump-fist-pump-911/')"
   ]
  },
  {
   "cell_type": "code",
   "execution_count": null,
   "metadata": {},
   "outputs": [],
   "source": [
    "df = pd.DataFrame(data)\n",
    "df.to_csv(file_output, encoding=\"utf-8\")"
   ]
  },
  {
   "cell_type": "code",
   "execution_count": null,
   "metadata": {},
   "outputs": [],
   "source": [
    "df[30:100]"
   ]
  },
  {
   "cell_type": "code",
   "execution_count": null,
   "metadata": {},
   "outputs": [],
   "source": [
    "snopes()"
   ]
  },
  {
   "cell_type": "code",
   "execution_count": null,
   "metadata": {},
   "outputs": [],
   "source": [
    "extractors = {\"snopes\": snopes}"
   ]
  },
  {
   "cell_type": "code",
   "execution_count": null,
   "metadata": {},
   "outputs": [],
   "source": [
    "user_agent = 'Mozilla/5.0'\n",
    "request = urllib.request.urlopen(urllib.request.Request(\"https://www.snopes.com/fact-check/page/\", data=None, headers={'User-Agent': user_agent}))"
   ]
  },
  {
   "cell_type": "code",
   "execution_count": null,
   "metadata": {},
   "outputs": [],
   "source": []
  }
 ],
 "metadata": {
  "kernelspec": {
   "display_name": "Python 3",
   "language": "python",
   "name": "python3"
  },
  "language_info": {
   "codemirror_mode": {
    "name": "ipython",
    "version": 3
   },
   "file_extension": ".py",
   "mimetype": "text/x-python",
   "name": "python",
   "nbconvert_exporter": "python",
   "pygments_lexer": "ipython3",
   "version": "3.6.4"
  }
 },
 "nbformat": 4,
 "nbformat_minor": 2
}
